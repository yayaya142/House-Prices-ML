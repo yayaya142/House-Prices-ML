{
 "cells": [
  {
   "cell_type": "markdown",
   "metadata": {},
   "source": [
    "# House Prices - Advanced Regression Techniques\n"
   ]
  },
  {
   "cell_type": "markdown",
   "metadata": {},
   "source": [
    "- Daniel Betzalel: \n",
    "- https://www.kaggle.com/danielbetzalel\n",
    "- Shai Odeni: \n",
    "- https://www.kaggle.com/shaiodeni"
   ]
  },
  {
   "cell_type": "markdown",
   "metadata": {},
   "source": [
    "## TL;DR\n",
    "We predicted house prices in Ames, Iowa by:\n",
    "- **Loading Data**: Imported necessary libraries and loaded datasets.\n",
    "- **EDA**: Explored features using statistics and visualizations.\n",
    "- **Preprocessing**: Cleaned data, handled missing values, and encoded categorical variables.\n",
    "- **Feature Engineering**: Created new features, selected relevant ones, and removed low-correlation features.\n",
    "- **Model Training**: Used Lasso, Ridge, ElasticNet ,SGD and linear for regression with different hyper parameters .\n",
    "- **Cross-Validation**: Evaluated models using cross-validation strategies.\n",
    "- **Submission**: Submitted the final model to the Kaggle competition.\n",
    "\n"
   ]
  },
  {
   "cell_type": "code",
   "execution_count": 1,
   "metadata": {},
   "outputs": [],
   "source": [
    "# import all the necessary libraries like pandas, matplotlib, seaborn, sklearn, plotly\n",
    "import pandas as pd\n",
    "import matplotlib.pyplot as plt\n",
    "import seaborn as sns\n",
    "import numpy as np\n",
    "import plotly.express as px\n",
    "import os\n",
    "import tqdm\n",
    "\n",
    "# sklearn imports\n",
    "from sklearn import metrics\n",
    "from sklearn import pipeline\n",
    "from sklearn import linear_model\n",
    "from sklearn import preprocessing\n",
    "from sklearn import neural_network\n",
    "from sklearn import model_selection\n",
    "from sklearn.pipeline import Pipeline\n",
    "from sklearn.model_selection import KFold\n",
    "from sklearn.pipeline import make_pipeline\n",
    "from sklearn.model_selection import LeavePOut\n",
    "from sklearn.linear_model import SGDRegressor\n",
    "from sklearn.linear_model import SGDClassifier\n",
    "from sklearn.metrics import mean_squared_error\n",
    "from sklearn.preprocessing import OneHotEncoder\n",
    "from sklearn.preprocessing import OrdinalEncoder\n",
    "from sklearn.preprocessing import StandardScaler\n",
    "from sklearn.linear_model import LinearRegression\n",
    "from sklearn.preprocessing import PolynomialFeatures\n",
    "from sklearn.model_selection import train_test_split"
   ]
  },
  {
   "cell_type": "code",
   "execution_count": 2,
   "metadata": {},
   "outputs": [
    {
     "data": {
      "text/plain": [
       "<Figure size 1000x600 with 0 Axes>"
      ]
     },
     "execution_count": 2,
     "metadata": {},
     "output_type": "execute_result"
    },
    {
     "data": {
      "text/plain": [
       "<Figure size 1000x600 with 0 Axes>"
      ]
     },
     "metadata": {},
     "output_type": "display_data"
    }
   ],
   "source": [
    "# set all the necessary configurations for the graphs\n",
    "sns.set(style=\"whitegrid\")\n",
    "sns.set_context(\"paper\")\n",
    "sns.set_palette(\"muted\")\n",
    "plt.figure(figsize=(10, 6))"
   ]
  },
  {
   "cell_type": "code",
   "execution_count": 3,
   "metadata": {},
   "outputs": [],
   "source": [
    "# define the input and folder paths for the data\n",
    "input_folder = \"input\"\n",
    "\n",
    "train_data_path = os.path.join(input_folder,\"train.csv\")\n",
    "test_data_path = os.path.join(input_folder,\"test.csv\")"
   ]
  },
  {
   "cell_type": "code",
   "execution_count": 4,
   "metadata": {},
   "outputs": [],
   "source": [
    "show_graphs = False"
   ]
  },
  {
   "cell_type": "markdown",
   "metadata": {},
   "source": [
    "*Loading the Data*"
   ]
  },
  {
   "cell_type": "code",
   "execution_count": 5,
   "metadata": {},
   "outputs": [],
   "source": [
    "train_data = pd.read_csv(train_data_path)\n",
    "test_data = pd.read_csv(test_data_path)"
   ]
  },
  {
   "cell_type": "code",
   "execution_count": 6,
   "metadata": {},
   "outputs": [
    {
     "data": {
      "text/html": [
       "<div>\n",
       "<style scoped>\n",
       "    .dataframe tbody tr th:only-of-type {\n",
       "        vertical-align: middle;\n",
       "    }\n",
       "\n",
       "    .dataframe tbody tr th {\n",
       "        vertical-align: top;\n",
       "    }\n",
       "\n",
       "    .dataframe thead th {\n",
       "        text-align: right;\n",
       "    }\n",
       "</style>\n",
       "<table border=\"1\" class=\"dataframe\">\n",
       "  <thead>\n",
       "    <tr style=\"text-align: right;\">\n",
       "      <th></th>\n",
       "      <th>Id</th>\n",
       "      <th>MSSubClass</th>\n",
       "      <th>MSZoning</th>\n",
       "      <th>LotFrontage</th>\n",
       "      <th>LotArea</th>\n",
       "      <th>Street</th>\n",
       "      <th>Alley</th>\n",
       "      <th>LotShape</th>\n",
       "      <th>LandContour</th>\n",
       "      <th>Utilities</th>\n",
       "      <th>...</th>\n",
       "      <th>PoolArea</th>\n",
       "      <th>PoolQC</th>\n",
       "      <th>Fence</th>\n",
       "      <th>MiscFeature</th>\n",
       "      <th>MiscVal</th>\n",
       "      <th>MoSold</th>\n",
       "      <th>YrSold</th>\n",
       "      <th>SaleType</th>\n",
       "      <th>SaleCondition</th>\n",
       "      <th>SalePrice</th>\n",
       "    </tr>\n",
       "  </thead>\n",
       "  <tbody>\n",
       "    <tr>\n",
       "      <th>0</th>\n",
       "      <td>1</td>\n",
       "      <td>60</td>\n",
       "      <td>RL</td>\n",
       "      <td>65.0</td>\n",
       "      <td>8450</td>\n",
       "      <td>Pave</td>\n",
       "      <td>NaN</td>\n",
       "      <td>Reg</td>\n",
       "      <td>Lvl</td>\n",
       "      <td>AllPub</td>\n",
       "      <td>...</td>\n",
       "      <td>0</td>\n",
       "      <td>NaN</td>\n",
       "      <td>NaN</td>\n",
       "      <td>NaN</td>\n",
       "      <td>0</td>\n",
       "      <td>2</td>\n",
       "      <td>2008</td>\n",
       "      <td>WD</td>\n",
       "      <td>Normal</td>\n",
       "      <td>208500</td>\n",
       "    </tr>\n",
       "    <tr>\n",
       "      <th>1</th>\n",
       "      <td>2</td>\n",
       "      <td>20</td>\n",
       "      <td>RL</td>\n",
       "      <td>80.0</td>\n",
       "      <td>9600</td>\n",
       "      <td>Pave</td>\n",
       "      <td>NaN</td>\n",
       "      <td>Reg</td>\n",
       "      <td>Lvl</td>\n",
       "      <td>AllPub</td>\n",
       "      <td>...</td>\n",
       "      <td>0</td>\n",
       "      <td>NaN</td>\n",
       "      <td>NaN</td>\n",
       "      <td>NaN</td>\n",
       "      <td>0</td>\n",
       "      <td>5</td>\n",
       "      <td>2007</td>\n",
       "      <td>WD</td>\n",
       "      <td>Normal</td>\n",
       "      <td>181500</td>\n",
       "    </tr>\n",
       "    <tr>\n",
       "      <th>2</th>\n",
       "      <td>3</td>\n",
       "      <td>60</td>\n",
       "      <td>RL</td>\n",
       "      <td>68.0</td>\n",
       "      <td>11250</td>\n",
       "      <td>Pave</td>\n",
       "      <td>NaN</td>\n",
       "      <td>IR1</td>\n",
       "      <td>Lvl</td>\n",
       "      <td>AllPub</td>\n",
       "      <td>...</td>\n",
       "      <td>0</td>\n",
       "      <td>NaN</td>\n",
       "      <td>NaN</td>\n",
       "      <td>NaN</td>\n",
       "      <td>0</td>\n",
       "      <td>9</td>\n",
       "      <td>2008</td>\n",
       "      <td>WD</td>\n",
       "      <td>Normal</td>\n",
       "      <td>223500</td>\n",
       "    </tr>\n",
       "    <tr>\n",
       "      <th>3</th>\n",
       "      <td>4</td>\n",
       "      <td>70</td>\n",
       "      <td>RL</td>\n",
       "      <td>60.0</td>\n",
       "      <td>9550</td>\n",
       "      <td>Pave</td>\n",
       "      <td>NaN</td>\n",
       "      <td>IR1</td>\n",
       "      <td>Lvl</td>\n",
       "      <td>AllPub</td>\n",
       "      <td>...</td>\n",
       "      <td>0</td>\n",
       "      <td>NaN</td>\n",
       "      <td>NaN</td>\n",
       "      <td>NaN</td>\n",
       "      <td>0</td>\n",
       "      <td>2</td>\n",
       "      <td>2006</td>\n",
       "      <td>WD</td>\n",
       "      <td>Abnorml</td>\n",
       "      <td>140000</td>\n",
       "    </tr>\n",
       "    <tr>\n",
       "      <th>4</th>\n",
       "      <td>5</td>\n",
       "      <td>60</td>\n",
       "      <td>RL</td>\n",
       "      <td>84.0</td>\n",
       "      <td>14260</td>\n",
       "      <td>Pave</td>\n",
       "      <td>NaN</td>\n",
       "      <td>IR1</td>\n",
       "      <td>Lvl</td>\n",
       "      <td>AllPub</td>\n",
       "      <td>...</td>\n",
       "      <td>0</td>\n",
       "      <td>NaN</td>\n",
       "      <td>NaN</td>\n",
       "      <td>NaN</td>\n",
       "      <td>0</td>\n",
       "      <td>12</td>\n",
       "      <td>2008</td>\n",
       "      <td>WD</td>\n",
       "      <td>Normal</td>\n",
       "      <td>250000</td>\n",
       "    </tr>\n",
       "  </tbody>\n",
       "</table>\n",
       "<p>5 rows × 81 columns</p>\n",
       "</div>"
      ],
      "text/plain": [
       "   Id  MSSubClass MSZoning  LotFrontage  LotArea Street Alley LotShape  \\\n",
       "0   1          60       RL         65.0     8450   Pave   NaN      Reg   \n",
       "1   2          20       RL         80.0     9600   Pave   NaN      Reg   \n",
       "2   3          60       RL         68.0    11250   Pave   NaN      IR1   \n",
       "3   4          70       RL         60.0     9550   Pave   NaN      IR1   \n",
       "4   5          60       RL         84.0    14260   Pave   NaN      IR1   \n",
       "\n",
       "  LandContour Utilities  ... PoolArea PoolQC Fence MiscFeature MiscVal MoSold  \\\n",
       "0         Lvl    AllPub  ...        0    NaN   NaN         NaN       0      2   \n",
       "1         Lvl    AllPub  ...        0    NaN   NaN         NaN       0      5   \n",
       "2         Lvl    AllPub  ...        0    NaN   NaN         NaN       0      9   \n",
       "3         Lvl    AllPub  ...        0    NaN   NaN         NaN       0      2   \n",
       "4         Lvl    AllPub  ...        0    NaN   NaN         NaN       0     12   \n",
       "\n",
       "  YrSold  SaleType  SaleCondition  SalePrice  \n",
       "0   2008        WD         Normal     208500  \n",
       "1   2007        WD         Normal     181500  \n",
       "2   2008        WD         Normal     223500  \n",
       "3   2006        WD        Abnorml     140000  \n",
       "4   2008        WD         Normal     250000  \n",
       "\n",
       "[5 rows x 81 columns]"
      ]
     },
     "execution_count": 6,
     "metadata": {},
     "output_type": "execute_result"
    }
   ],
   "source": [
    "train_data.head()"
   ]
  },
  {
   "cell_type": "markdown",
   "metadata": {},
   "source": [
    "- Droping the Id feature from the train and test."
   ]
  },
  {
   "cell_type": "code",
   "execution_count": 7,
   "metadata": {},
   "outputs": [],
   "source": [
    "train_data_id = train_data['Id']\n",
    "test_data_id = test_data['Id']\n",
    "train_data.drop('Id', axis=1, inplace=True)\n",
    "test_data.drop('Id', axis=1, inplace=True)"
   ]
  },
  {
   "cell_type": "markdown",
   "metadata": {},
   "source": [
    "- Count the number of feuatures\n"
   ]
  },
  {
   "cell_type": "code",
   "execution_count": 8,
   "metadata": {},
   "outputs": [
    {
     "name": "stdout",
     "output_type": "stream",
     "text": [
      "Number of features: 80\n"
     ]
    }
   ],
   "source": [
    "print(f\"Number of features: {train_data.shape[1]}\")"
   ]
  },
  {
   "cell_type": "markdown",
   "metadata": {},
   "source": [
    "# Part 1: <br> *Analyzing the data - EDA*"
   ]
  },
  {
   "cell_type": "markdown",
   "metadata": {},
   "source": [
    "- *Get the data types of the columns in the training dataset*"
   ]
  },
  {
   "cell_type": "code",
   "execution_count": 9,
   "metadata": {},
   "outputs": [
    {
     "name": "stdout",
     "output_type": "stream",
     "text": [
      "<class 'pandas.core.frame.DataFrame'>\n",
      "RangeIndex: 1460 entries, 0 to 1459\n",
      "Data columns (total 80 columns):\n",
      " #   Column         Non-Null Count  Dtype  \n",
      "---  ------         --------------  -----  \n",
      " 0   MSSubClass     1460 non-null   int64  \n",
      " 1   MSZoning       1460 non-null   object \n",
      " 2   LotFrontage    1201 non-null   float64\n",
      " 3   LotArea        1460 non-null   int64  \n",
      " 4   Street         1460 non-null   object \n",
      " 5   Alley          91 non-null     object \n",
      " 6   LotShape       1460 non-null   object \n",
      " 7   LandContour    1460 non-null   object \n",
      " 8   Utilities      1460 non-null   object \n",
      " 9   LotConfig      1460 non-null   object \n",
      " 10  LandSlope      1460 non-null   object \n",
      " 11  Neighborhood   1460 non-null   object \n",
      " 12  Condition1     1460 non-null   object \n",
      " 13  Condition2     1460 non-null   object \n",
      " 14  BldgType       1460 non-null   object \n",
      " 15  HouseStyle     1460 non-null   object \n",
      " 16  OverallQual    1460 non-null   int64  \n",
      " 17  OverallCond    1460 non-null   int64  \n",
      " 18  YearBuilt      1460 non-null   int64  \n",
      " 19  YearRemodAdd   1460 non-null   int64  \n",
      " 20  RoofStyle      1460 non-null   object \n",
      " 21  RoofMatl       1460 non-null   object \n",
      " 22  Exterior1st    1460 non-null   object \n",
      " 23  Exterior2nd    1460 non-null   object \n",
      " 24  MasVnrType     588 non-null    object \n",
      " 25  MasVnrArea     1452 non-null   float64\n",
      " 26  ExterQual      1460 non-null   object \n",
      " 27  ExterCond      1460 non-null   object \n",
      " 28  Foundation     1460 non-null   object \n",
      " 29  BsmtQual       1423 non-null   object \n",
      " 30  BsmtCond       1423 non-null   object \n",
      " 31  BsmtExposure   1422 non-null   object \n",
      " 32  BsmtFinType1   1423 non-null   object \n",
      " 33  BsmtFinSF1     1460 non-null   int64  \n",
      " 34  BsmtFinType2   1422 non-null   object \n",
      " 35  BsmtFinSF2     1460 non-null   int64  \n",
      " 36  BsmtUnfSF      1460 non-null   int64  \n",
      " 37  TotalBsmtSF    1460 non-null   int64  \n",
      " 38  Heating        1460 non-null   object \n",
      " 39  HeatingQC      1460 non-null   object \n",
      " 40  CentralAir     1460 non-null   object \n",
      " 41  Electrical     1459 non-null   object \n",
      " 42  1stFlrSF       1460 non-null   int64  \n",
      " 43  2ndFlrSF       1460 non-null   int64  \n",
      " 44  LowQualFinSF   1460 non-null   int64  \n",
      " 45  GrLivArea      1460 non-null   int64  \n",
      " 46  BsmtFullBath   1460 non-null   int64  \n",
      " 47  BsmtHalfBath   1460 non-null   int64  \n",
      " 48  FullBath       1460 non-null   int64  \n",
      " 49  HalfBath       1460 non-null   int64  \n",
      " 50  BedroomAbvGr   1460 non-null   int64  \n",
      " 51  KitchenAbvGr   1460 non-null   int64  \n",
      " 52  KitchenQual    1460 non-null   object \n",
      " 53  TotRmsAbvGrd   1460 non-null   int64  \n",
      " 54  Functional     1460 non-null   object \n",
      " 55  Fireplaces     1460 non-null   int64  \n",
      " 56  FireplaceQu    770 non-null    object \n",
      " 57  GarageType     1379 non-null   object \n",
      " 58  GarageYrBlt    1379 non-null   float64\n",
      " 59  GarageFinish   1379 non-null   object \n",
      " 60  GarageCars     1460 non-null   int64  \n",
      " 61  GarageArea     1460 non-null   int64  \n",
      " 62  GarageQual     1379 non-null   object \n",
      " 63  GarageCond     1379 non-null   object \n",
      " 64  PavedDrive     1460 non-null   object \n",
      " 65  WoodDeckSF     1460 non-null   int64  \n",
      " 66  OpenPorchSF    1460 non-null   int64  \n",
      " 67  EnclosedPorch  1460 non-null   int64  \n",
      " 68  3SsnPorch      1460 non-null   int64  \n",
      " 69  ScreenPorch    1460 non-null   int64  \n",
      " 70  PoolArea       1460 non-null   int64  \n",
      " 71  PoolQC         7 non-null      object \n",
      " 72  Fence          281 non-null    object \n",
      " 73  MiscFeature    54 non-null     object \n",
      " 74  MiscVal        1460 non-null   int64  \n",
      " 75  MoSold         1460 non-null   int64  \n",
      " 76  YrSold         1460 non-null   int64  \n",
      " 77  SaleType       1460 non-null   object \n",
      " 78  SaleCondition  1460 non-null   object \n",
      " 79  SalePrice      1460 non-null   int64  \n",
      "dtypes: float64(3), int64(34), object(43)\n",
      "memory usage: 912.6+ KB\n"
     ]
    },
    {
     "data": {
      "text/plain": [
       "None"
      ]
     },
     "metadata": {},
     "output_type": "display_data"
    }
   ],
   "source": [
    "display(train_data.info())"
   ]
  },
  {
   "cell_type": "markdown",
   "metadata": {},
   "source": [
    "Most of the data is from type Object"
   ]
  },
  {
   "cell_type": "markdown",
   "metadata": {},
   "source": [
    "## *Data Cleaning*"
   ]
  },
  {
   "cell_type": "code",
   "execution_count": 10,
   "metadata": {},
   "outputs": [
    {
     "name": "stdout",
     "output_type": "stream",
     "text": [
      "Missing values in the dataset:\n",
      "-----------------------------------------\n",
      "Total Rows:  1460\n",
      "_________________________________________\n",
      "              Missing Values  Percentage\n",
      "PoolQC                  1453   99.520548\n",
      "MiscFeature             1406   96.301370\n",
      "Alley                   1369   93.767123\n",
      "Fence                   1179   80.753425\n",
      "MasVnrType               872   59.726027\n",
      "FireplaceQu              690   47.260274\n",
      "LotFrontage              259   17.739726\n",
      "GarageYrBlt               81    5.547945\n",
      "GarageCond                81    5.547945\n",
      "GarageType                81    5.547945\n",
      "GarageFinish              81    5.547945\n",
      "GarageQual                81    5.547945\n",
      "BsmtExposure              38    2.602740\n",
      "BsmtFinType2              38    2.602740\n",
      "BsmtCond                  37    2.534247\n",
      "BsmtQual                  37    2.534247\n",
      "BsmtFinType1              37    2.534247\n",
      "MasVnrArea                 8    0.547945\n",
      "Electrical                 1    0.068493\n",
      "MSSubClass                 0    0.000000\n",
      "\n",
      "\n",
      "Total missing values:  7829\n",
      "-----------------------------------------\n"
     ]
    }
   ],
   "source": [
    "\n",
    "def show_missing_values_stat(data):\n",
    "    print(\"Missing values in the dataset:\")\n",
    "    print(\"-----------------------------------------\")\n",
    "    print(\"Total Rows: \", len(data))\n",
    "    print(\"_________________________________________\")\n",
    "    # Display missing values in each column of the training dataset\n",
    "    missing_values = data.isnull().sum()\n",
    "    missing_percentage = (missing_values / len(train_data)) * 100\n",
    "    missing_data = pd.concat([missing_values, missing_percentage], axis=1, keys=['Missing Values', 'Percentage'])\n",
    "    missing_data.sort_values(by='Missing Values', ascending=False, inplace=True)\n",
    "    print(missing_data.head(20))\n",
    "    \n",
    "    print(\"\\n\\nTotal missing values: \", missing_data['Missing Values'].sum())\n",
    "    print(\"-----------------------------------------\")\n",
    "\n",
    "    \n",
    "    \n",
    "show_missing_values_stat(train_data)"
   ]
  },
  {
   "cell_type": "markdown",
   "metadata": {},
   "source": [
    "### we can see that there are missing values in all the features above :\n",
    "* LotFrontage - 259 \n",
    "* Alley - 1369 \n",
    "* MasVnrType - 872 <br>.<br>.<br>.\n",
    "* MiscFeature - 1406\n",
    "\n",
    "Total of *19* features with missing values\n",
    "- 3 of float64\n",
    "- 16 of object"
   ]
  },
  {
   "cell_type": "markdown",
   "metadata": {},
   "source": [
    " - we can see that a lot of the data is missing hance it's will be very hard to fill the missing part and might give us a false information"
   ]
  },
  {
   "cell_type": "code",
   "execution_count": 11,
   "metadata": {},
   "outputs": [],
   "source": [
    "def drop_highly_missing_features(data, fetures_to_drop):\n",
    "    data = data.drop(fetures_to_drop, axis=1)\n",
    "    return data\n",
    "\n",
    "\n",
    "def find_features_with_missing_values_threshold(data, threshold):\n",
    "    missing_values = data.isnull().sum()\n",
    "    missing_percentage = (missing_values / len(train_data)) * 100\n",
    "    missing_data = pd.concat([missing_values, missing_percentage], axis=1, keys=['Missing Values', 'Percentage'])\n",
    "    missing_data.sort_values(by='Missing Values', ascending=False, inplace=True)\n",
    "    features_to_drop = missing_data[missing_data['Percentage'] > threshold].index\n",
    "    return features_to_drop"
   ]
  },
  {
   "cell_type": "code",
   "execution_count": 12,
   "metadata": {},
   "outputs": [
    {
     "name": "stdout",
     "output_type": "stream",
     "text": [
      "Remove this features:  Index(['PoolQC', 'MiscFeature', 'Alley', 'Fence'], dtype='object')\n"
     ]
    }
   ],
   "source": [
    "# Set the threshold for missing values to remove\n",
    "threshold = 80\n",
    "# for 80 it return # [\"Alley\", \"PoolQC\", \"Fence\", \"MiscFeature\"]\n",
    "drop_features = find_features_with_missing_values_threshold(train_data, threshold) \n",
    "\n",
    "\n",
    "train_data = drop_highly_missing_features(train_data, drop_features)\n",
    "\n",
    "test_data = drop_highly_missing_features(test_data, drop_features)\n",
    "\n",
    "print(\"Remove this features: \", drop_features)"
   ]
  },
  {
   "cell_type": "markdown",
   "metadata": {},
   "source": [
    "- ### Check the impact of dropping features that have less than 20% data"
   ]
  },
  {
   "cell_type": "code",
   "execution_count": 13,
   "metadata": {},
   "outputs": [
    {
     "name": "stdout",
     "output_type": "stream",
     "text": [
      "Missing values in the dataset:\n",
      "-----------------------------------------\n",
      "Total Rows:  1460\n",
      "_________________________________________\n",
      "              Missing Values  Percentage\n",
      "MasVnrType               872   59.726027\n",
      "FireplaceQu              690   47.260274\n",
      "LotFrontage              259   17.739726\n",
      "GarageType                81    5.547945\n",
      "GarageYrBlt               81    5.547945\n",
      "GarageFinish              81    5.547945\n",
      "GarageQual                81    5.547945\n",
      "GarageCond                81    5.547945\n",
      "BsmtExposure              38    2.602740\n",
      "BsmtFinType2              38    2.602740\n",
      "BsmtQual                  37    2.534247\n",
      "BsmtCond                  37    2.534247\n",
      "BsmtFinType1              37    2.534247\n",
      "MasVnrArea                 8    0.547945\n",
      "Electrical                 1    0.068493\n",
      "Fireplaces                 0    0.000000\n",
      "KitchenQual                0    0.000000\n",
      "KitchenAbvGr               0    0.000000\n",
      "BedroomAbvGr               0    0.000000\n",
      "HalfBath                   0    0.000000\n",
      "\n",
      "\n",
      "Total missing values:  2422\n",
      "-----------------------------------------\n"
     ]
    }
   ],
   "source": [
    "show_missing_values_stat(train_data)"
   ]
  },
  {
   "cell_type": "markdown",
   "metadata": {},
   "source": [
    "## *separate the numerical and categorical columns* ##"
   ]
  },
  {
   "cell_type": "code",
   "execution_count": 14,
   "metadata": {},
   "outputs": [],
   "source": [
    "train_data_num = train_data.select_dtypes(include=[np.number])\n",
    "train_data_cat = train_data.select_dtypes(include=[object])\n",
    "\n",
    "test_data_num = test_data.select_dtypes(include=[np.number])\n",
    "test_data_cat = test_data.select_dtypes(include=[object])"
   ]
  },
  {
   "cell_type": "markdown",
   "metadata": {},
   "source": [
    "# Part 2: <br>*Handling Missing Data*"
   ]
  },
  {
   "cell_type": "markdown",
   "metadata": {},
   "source": [
    "### *use a heat map on the numerical data to see the correlation between the features*"
   ]
  },
  {
   "cell_type": "code",
   "execution_count": 15,
   "metadata": {},
   "outputs": [
    {
     "name": "stderr",
     "output_type": "stream",
     "text": [
      "d:\\softwere\\One Drive\\OneDrive - Afeka College Of Engineering\\Machine Learning\\House Prices\\house-prices_env\\lib\\site-packages\\tqdm\\auto.py:21: TqdmWarning: IProgress not found. Please update jupyter and ipywidgets. See https://ipywidgets.readthedocs.io/en/stable/user_install.html\n",
      "  from .autonotebook import tqdm as notebook_tqdm\n"
     ]
    }
   ],
   "source": [
    "import sweetviz as sw\n",
    "if show_graphs:\n",
    "    usedcars_report = sw.analyze(train_data)\n",
    "    usedcars_report.show_notebook(layout='vertical')"
   ]
  },
  {
   "cell_type": "code",
   "execution_count": 16,
   "metadata": {},
   "outputs": [],
   "source": [
    "def show_corr_mat(df):\n",
    "    corr_matrix = df.corr()\n",
    "    plt.figure(figsize=(20, 20))\n",
    "    sns.heatmap(corr_matrix, annot=True, fmt=\".2f\")\n",
    "    plt.show()\n",
    "\n",
    "if show_graphs:\n",
    "    show_corr_mat(train_data_num)"
   ]
  },
  {
   "cell_type": "markdown",
   "metadata": {},
   "source": [
    "### Low correaltion features: \n",
    " <br>LowQualFinSF----0.03\n",
    " <br>MiscVal-----------0.02\n",
    " <br>MiscVal-----------0.02\n",
    " <br>BsmtFinType2-----0.01"
   ]
  },
  {
   "cell_type": "code",
   "execution_count": 17,
   "metadata": {},
   "outputs": [],
   "source": [
    "def drop_from_data_set(df, cols: list):\n",
    "    df.drop(cols, axis=1, inplace=True)"
   ]
  },
  {
   "cell_type": "code",
   "execution_count": 18,
   "metadata": {},
   "outputs": [
    {
     "name": "stdout",
     "output_type": "stream",
     "text": [
      "(1459, 33)\n",
      "(1460, 34)\n"
     ]
    }
   ],
   "source": [
    "drop_from_data_set(test_data_num, [\"LowQualFinSF\",\"MiscVal\",\"MiscVal\",\"BsmtFinSF2\"])\n",
    "drop_from_data_set(train_data_num, [\"LowQualFinSF\",\"MiscVal\",\"MiscVal\",\"BsmtFinSF2\"])\n",
    "print(test_data_num.shape)\n",
    "print(train_data_num.shape)\n",
    "#"
   ]
  },
  {
   "cell_type": "markdown",
   "metadata": {},
   "source": [
    "- The diffrence between the number of features is beacuse the test_data doesn't have the SalePrice feature in it"
   ]
  },
  {
   "cell_type": "code",
   "execution_count": 19,
   "metadata": {},
   "outputs": [],
   "source": [
    "if show_graphs:\n",
    "    show_corr_mat(train_data_num)"
   ]
  },
  {
   "cell_type": "markdown",
   "metadata": {},
   "source": [
    "- *Handling Missing Values for Numerical Features*"
   ]
  },
  {
   "cell_type": "code",
   "execution_count": 20,
   "metadata": {},
   "outputs": [],
   "source": [
    "# fill missing numerical values with median\n",
    "def handle_missing_values_numerical(data):\n",
    "    for column in data.select_dtypes(include=[np.number]).columns:\n",
    "        data[column] = data[column].fillna(data[column].mean()) \n",
    "    return data"
   ]
  },
  {
   "cell_type": "markdown",
   "metadata": {},
   "source": [
    "- *Handling Missing Values for Categorical Features*"
   ]
  },
  {
   "cell_type": "code",
   "execution_count": 21,
   "metadata": {},
   "outputs": [],
   "source": [
    "# Fill missing categorical values with most frequent value\n",
    "def handle_missing_values_categorical(data):\n",
    "    for column in data.select_dtypes(include=[object]).columns:\n",
    "        data[column] = data[column].fillna(data[column].mode()[0])\n",
    "    return data"
   ]
  },
  {
   "cell_type": "code",
   "execution_count": 22,
   "metadata": {},
   "outputs": [],
   "source": [
    "train_data_num = handle_missing_values_numerical(train_data_num)\n",
    "train_data_cat = handle_missing_values_categorical(train_data_cat)\n",
    "\n",
    "test_data_num = handle_missing_values_numerical(test_data_num)\n",
    "test_data_cat = handle_missing_values_categorical(test_data_cat)"
   ]
  },
  {
   "cell_type": "code",
   "execution_count": 23,
   "metadata": {},
   "outputs": [
    {
     "name": "stdout",
     "output_type": "stream",
     "text": [
      "\n",
      "Missing values in the training dataset after filling:\n",
      "0\n",
      "\n",
      "Missing values in the test dataset after filling:\n",
      "0\n"
     ]
    }
   ],
   "source": [
    "print(\"\\nMissing values in the training dataset after filling:\")\n",
    "print(train_data_num.isnull().sum().sum() + train_data_cat.isnull().sum().sum())\n",
    "\n",
    "\n",
    "print(\"\\nMissing values in the test dataset after filling:\")\n",
    "print(test_data_num.isnull().sum().sum() + test_data_cat.isnull().sum().sum())"
   ]
  },
  {
   "cell_type": "code",
   "execution_count": 24,
   "metadata": {},
   "outputs": [
    {
     "name": "stdout",
     "output_type": "stream",
     "text": [
      "(1460, 73)\n",
      "(1459, 72)\n"
     ]
    }
   ],
   "source": [
    "# Combine the datasets to ensure consistent one-hot encoding\n",
    "train_data = pd.concat([train_data_cat, train_data_num], axis=1)\n",
    "test_data = pd.concat([test_data_cat, test_data_num], axis=1)\n",
    "print(train_data.shape)\n",
    "print(test_data.shape)"
   ]
  },
  {
   "cell_type": "markdown",
   "metadata": {},
   "source": [
    "# Part 3: <br> *Data Visualizing*"
   ]
  },
  {
   "cell_type": "markdown",
   "metadata": {},
   "source": [
    "*Distribution of SalePrice*"
   ]
  },
  {
   "cell_type": "code",
   "execution_count": 25,
   "metadata": {},
   "outputs": [],
   "source": [
    "\n",
    "if show_graphs:\n",
    "    plt.figure(figsize=(11, 7))\n",
    "    sns.histplot(train_data['SalePrice'], kde=True, bins=30, color='blue')\n",
    "    plt.title('Distribution of SalePrice')\n",
    "    plt.xlabel('SalePrice')\n",
    "    plt.ylabel('Count')\n",
    "    plt.show()"
   ]
  },
  {
   "cell_type": "markdown",
   "metadata": {},
   "source": [
    "*Histogram for SalePrice*"
   ]
  },
  {
   "cell_type": "code",
   "execution_count": 26,
   "metadata": {},
   "outputs": [],
   "source": [
    "if show_graphs:\n",
    "    fig = px.histogram(train_data, x='SalePrice', title='Distribution of SalePrice')\n",
    "    fig.show()"
   ]
  },
  {
   "cell_type": "code",
   "execution_count": 27,
   "metadata": {},
   "outputs": [],
   "source": [
    "from scipy import stats\n",
    "\n",
    "if show_graphs:\n",
    "    plt.figure(figsize=(10, 6))\n",
    "    stats.probplot(train_data['SalePrice'], dist=\"norm\", plot=plt)\n",
    "    plt.title('Normal Probability Plot of SalePrice')\n",
    "    plt.show()"
   ]
  },
  {
   "cell_type": "code",
   "execution_count": 28,
   "metadata": {},
   "outputs": [],
   "source": [
    "if show_graphs:\n",
    "    train_data_num.hist(bins=50, figsize=(22, 25))\n",
    "    plt.show()"
   ]
  },
  {
   "cell_type": "code",
   "execution_count": 29,
   "metadata": {},
   "outputs": [],
   "source": [
    "import plotly.graph_objects as go\n",
    "\n",
    "def show_top_correlated_features(correlation_matrix, n):\n",
    "    # Display the heatmap of the correlation matrix with numbers in each cell\n",
    "    fig = go.Figure(data=go.Heatmap(\n",
    "        z=correlation_matrix.values,\n",
    "        x=correlation_matrix.columns,\n",
    "        y=correlation_matrix.columns,\n",
    "        colorscale='Viridis',\n",
    "        text=correlation_matrix.values.round(2),  # Round values for display\n",
    "        texttemplate=\"%{text}\",\n",
    "        showscale=True))\n",
    "    fig.update_layout(title=f\"Top {n} Correlated Features\", width=1000, height=800)\n",
    "    fig.show()"
   ]
  },
  {
   "cell_type": "code",
   "execution_count": 30,
   "metadata": {},
   "outputs": [],
   "source": [
    "if show_graphs:\n",
    "    # Split the data to numerical and categorical columns\n",
    "    numerical_columns = train_data.select_dtypes(include=[\"int64\", 'float64']).columns\n",
    "    categorical_columns = train_data.select_dtypes(include=[\"object\"]).columns\n",
    "\n",
    "\n",
    "    # Encode the categorical columns\n",
    "    categorical_columns_encoded = pd.get_dummies(train_data[categorical_columns])\n",
    "\n",
    "    # Combine the numerical and encoded categorical columns\n",
    "    train_data_encoded = pd.concat([train_data[numerical_columns], categorical_columns_encoded], axis=1)\n",
    "    # Create a correlation matrix\n",
    "    correlation_matrix = train_data_encoded.corr().abs()\n",
    "    N = 20\n",
    "    # Get the top N correlated features with the target variable\n",
    "    top_correlated_features = correlation_matrix['SalePrice'].sort_values(ascending=False).head(N).index.tolist()\n",
    "\n",
    "    # Filter the correlation matrix to get the top N correlated features\n",
    "    filtered_correlation_matrix = correlation_matrix.loc[top_correlated_features, top_correlated_features]\n",
    "    show_top_correlated_features(filtered_correlation_matrix, N)"
   ]
  },
  {
   "cell_type": "markdown",
   "metadata": {},
   "source": [
    "# Part 4:<br>  *Feature Engineering*"
   ]
  },
  {
   "cell_type": "markdown",
   "metadata": {},
   "source": [
    "Total Square Footage\n",
    "\n",
    "- We create a new feature TotalSF by summing up the total basement square footage, first floor square footage, second floor square footage, and garage area. This feature represents the total square footage of the house."
   ]
  },
  {
   "cell_type": "code",
   "execution_count": 31,
   "metadata": {},
   "outputs": [],
   "source": [
    "features_engineering_list = []\n",
    "\n",
    "# create TotalSF feature\n",
    "def create_TotalSF_feature(data, features_engineering_list=None):\n",
    "    data['TotalSqureF'] = data['TotalBsmtSF'] + data['1stFlrSF'] + data['2ndFlrSF'] + data['GarageArea']\n",
    "    if features_engineering_list is not None:\n",
    "        features_engineering_list.append('TotalSqureF')\n",
    "    return data\n",
    "\n",
    "# Create the TotalSF feature for the train and test data\n",
    "train_data = create_TotalSF_feature(train_data, features_engineering_list)\n",
    "\n",
    "test_data = create_TotalSF_feature(test_data)"
   ]
  },
  {
   "cell_type": "markdown",
   "metadata": {},
   "source": [
    "*Age of the House*\n",
    "\n",
    "- We calculate the age of the house at the time of sale by subtracting the year the house was built from the year it was sold."
   ]
  },
  {
   "cell_type": "code",
   "execution_count": 32,
   "metadata": {},
   "outputs": [],
   "source": [
    "# create age_of_house feature\n",
    "def create_age_of_house_feature(data, features_engineering_list=None):\n",
    "    data['AgeOfHouse'] = data['YrSold'] - data['YearBuilt']\n",
    "    if features_engineering_list is not None:\n",
    "        features_engineering_list.append('AgeOfHouse')\n",
    "    return data\n",
    "\n",
    "\n",
    "# Create the AgeOfHouse feature for the train and test data\n",
    "train_data = create_age_of_house_feature(train_data, features_engineering_list)\n",
    "\n",
    "test_data = create_age_of_house_feature(test_data)"
   ]
  },
  {
   "cell_type": "markdown",
   "metadata": {},
   "source": [
    "*Total Bathrooms*\n",
    "\n",
    "- We create a new feature TotalBath by summing up the number of full and half bathrooms in the basement and above grade, with half bathrooms counted as 0.5."
   ]
  },
  {
   "cell_type": "code",
   "execution_count": 33,
   "metadata": {},
   "outputs": [],
   "source": [
    "# create TotalBath feature\n",
    "def create_TotalBath_feature(data, features_engineering_list=None):\n",
    "    data['TotalBath'] = data['FullBath'] + 0.5 * data['HalfBath'] + data['BsmtFullBath'] + 0.5 * data['BsmtHalfBath']\n",
    "    if features_engineering_list is not None:\n",
    "        features_engineering_list.append('TotalBath')\n",
    "    return data\n",
    "\n",
    "# Create the TotalBath feature for the train and test data\n",
    "train_data = create_TotalBath_feature(train_data, features_engineering_list)\n",
    "\n",
    "test_data = create_TotalBath_feature(test_data)"
   ]
  },
  {
   "cell_type": "markdown",
   "metadata": {},
   "source": [
    "*Age of the Renovation*\n",
    "\n",
    "- We calculate the age of the house since its most recent renovation by subtracting the year of the most recent renovation from the year it was sold."
   ]
  },
  {
   "cell_type": "code",
   "execution_count": 34,
   "metadata": {},
   "outputs": [],
   "source": [
    "# create age_of_renovation feature\n",
    "def create_age_of_renovation_feature(data, features_engineering_list=None):\n",
    "    data['AgeOfRenovation'] = data['YrSold'] - data['YearRemodAdd']\n",
    "    if features_engineering_list is not None:\n",
    "        features_engineering_list.append('AgeOfRenovation')\n",
    "    return data\n",
    "\n",
    "# Create the AgeOfRenovation feature for the train and test data\n",
    "train_data = create_age_of_renovation_feature(train_data, features_engineering_list)\n",
    "\n",
    "test_data = create_age_of_renovation_feature(test_data)"
   ]
  },
  {
   "cell_type": "markdown",
   "metadata": {},
   "source": [
    "_Total Porch Area_\n",
    "\n",
    "- We create a new feature TotalPorchSF by summing up the area of all porch-related features, representing the total porch area of the house."
   ]
  },
  {
   "cell_type": "code",
   "execution_count": 35,
   "metadata": {},
   "outputs": [],
   "source": [
    "# create TotalPorchSF feature\n",
    "def create_TotalPorchSF_feature(data, features_engineering_list=None):\n",
    "    data['TotalPorchSF'] = data['OpenPorchSF'] + data['EnclosedPorch'] + data['3SsnPorch'] + data['ScreenPorch']\n",
    "    if features_engineering_list is not None:\n",
    "        features_engineering_list.append('TotalPorchSF')\n",
    "    return data\n",
    "\n",
    "# Create the TotalPorchSF feature for the train and test data\n",
    "train_data = create_TotalPorchSF_feature(train_data, features_engineering_list)\n",
    "\n",
    "test_data = create_TotalPorchSF_feature(test_data)"
   ]
  },
  {
   "cell_type": "markdown",
   "metadata": {},
   "source": [
    "_Display the New Features_"
   ]
  },
  {
   "cell_type": "code",
   "execution_count": 36,
   "metadata": {},
   "outputs": [
    {
     "name": "stdout",
     "output_type": "stream",
     "text": [
      "   TotalSqureF  AgeOfHouse  TotalBath  AgeOfRenovation  TotalPorchSF\n",
      "0         3114           5        3.5                5            61\n",
      "1         2984          31        2.5               31             0\n",
      "2         3314           7        3.5                6            42\n",
      "3         3115          91        2.0               36           307\n",
      "4         4179           8        3.5                8            84\n"
     ]
    }
   ],
   "source": [
    "print(train_data[features_engineering_list].head())"
   ]
  },
  {
   "cell_type": "code",
   "execution_count": 37,
   "metadata": {},
   "outputs": [],
   "source": [
    "if show_graphs:\n",
    "    N = 20\n",
    "    # Split the data to numerical and categorical columns\n",
    "    numerical_columns = train_data.select_dtypes(include=[\"int64\", 'float64']).columns\n",
    "    categorical_columns = train_data.select_dtypes(include=[\"object\"]).columns\n",
    "\n",
    "\n",
    "    # Encode the categorical columns\n",
    "    categorical_columns_encoded = pd.get_dummies(train_data[categorical_columns])\n",
    "\n",
    "    # Combine the numerical and encoded categorical columns\n",
    "    train_data_encoded = pd.concat([train_data[numerical_columns], categorical_columns_encoded], axis=1)\n",
    "\n",
    "\n",
    "    # Create a correlation matrix\n",
    "    correlation_matrix = train_data_encoded.corr().abs()\n",
    "    \n",
    "    # Get the top N correlated features with the target variable\n",
    "    top_correlated_features = correlation_matrix['SalePrice'].sort_values(ascending=False).head(N).index.tolist()\n",
    "\n",
    "    # Filter the correlation matrix to get the top N correlated features\n",
    "    filtered_correlation_matrix = correlation_matrix.loc[top_correlated_features, top_correlated_features]\n",
    "    \n",
    "    show_top_correlated_features(filtered_correlation_matrix, N)\n",
    "    \n",
    "    "
   ]
  },
  {
   "cell_type": "markdown",
   "metadata": {},
   "source": [
    "\n",
    "### *Make the One-Hot-Encoding on the data*"
   ]
  },
  {
   "cell_type": "code",
   "execution_count": 38,
   "metadata": {},
   "outputs": [],
   "source": [
    "X = train_data.drop('SalePrice', axis=1)\n",
    "t = train_data['SalePrice']\n",
    "\n",
    "\n",
    "\n",
    "# for part 2\n",
    "X_part2 =  train_data.drop('SalePrice', axis=1)\n",
    "t_part2 = train_data['SalePrice']\n",
    "\n",
    "test_data_part2 = test_data.copy()"
   ]
  },
  {
   "cell_type": "code",
   "execution_count": 39,
   "metadata": {},
   "outputs": [
    {
     "name": "stdout",
     "output_type": "stream",
     "text": [
      "(1460, 77)\n",
      "(1459, 77)\n"
     ]
    }
   ],
   "source": [
    "print(X_part2.shape)\n",
    "print(test_data_part2.shape)\n"
   ]
  },
  {
   "cell_type": "code",
   "execution_count": 40,
   "metadata": {},
   "outputs": [
    {
     "name": "stdout",
     "output_type": "stream",
     "text": [
      "(1460, 261)\n",
      "(1459, 260)\n"
     ]
    }
   ],
   "source": [
    "# get the SalePrice column\n",
    "sale_price = train_data['SalePrice']\n",
    "\n",
    "# Apply one-hot encoding\n",
    "train_data = pd.get_dummies(train_data)\n",
    "test_data = pd.get_dummies(test_data)\n",
    "\n",
    "# Align the datasets to ensure consistent columns\n",
    "train_data, test_data = train_data.align(test_data, join='inner', axis=1)\n",
    "\n",
    "# Add the SalePrice column back to the training dataset\n",
    "train_data['SalePrice'] = sale_price\n",
    "\n",
    "print(train_data.shape)\n",
    "print(test_data.shape)"
   ]
  },
  {
   "cell_type": "markdown",
   "metadata": {},
   "source": [
    "# Part 5:<br> *Regularization*"
   ]
  },
  {
   "cell_type": "markdown",
   "metadata": {},
   "source": [
    "## Cross Validation\n"
   ]
  },
  {
   "cell_type": "code",
   "execution_count": 41,
   "metadata": {},
   "outputs": [],
   "source": [
    "# find generator length\n",
    "from tqdm.auto import tqdm\n",
    "\n",
    "def find_generator_len(generator, use_pbar=True):\n",
    "    i = 0\n",
    "\n",
    "    if use_pbar:\n",
    "        pbar = tqdm(desc='Calculating Length',\n",
    "                    ncols=1000,\n",
    "                    bar_format='{desc}{bar:10}{r_bar}')\n",
    "\n",
    "    for a in generator:\n",
    "        i += 1\n",
    "\n",
    "        if use_pbar:\n",
    "            pbar.update()\n",
    "\n",
    "    if use_pbar:\n",
    "        pbar.close()\n",
    "\n",
    "    return i"
   ]
  },
  {
   "cell_type": "code",
   "execution_count": 42,
   "metadata": {},
   "outputs": [],
   "source": [
    "# calculate score and loss from cv (KFold or LPO) and display graphs\n",
    "def get_cv_score_and_loss(X, t, model, transformer=None,\n",
    "                          k=None, p=None,\n",
    "                          show_score_loss_graphs=False, use_pbar=True):\n",
    "    scores_losses_df = pd.DataFrame(columns=['fold_id', 'split', 'score', 'loss'])\n",
    "\n",
    "    if k is not None:\n",
    "        cv = KFold(n_splits=k, shuffle=True, random_state=42)\n",
    "    elif p is not None:\n",
    "        cv = LeavePOut(p)\n",
    "    else:\n",
    "        raise ValueError('you need to specify k or p in order for the cv to work')\n",
    "\n",
    "    if use_pbar:\n",
    "        pbar = tqdm(desc='Computing Models',\n",
    "                    total=find_generator_len(cv.split(X)))\n",
    "\n",
    "    for i, (train_ids, val_ids) in enumerate(cv.split(X)):\n",
    "        X_train = X.loc[train_ids]\n",
    "        t_train = t.loc[train_ids]\n",
    "        X_val = X.loc[val_ids]\n",
    "        t_val = t.loc[val_ids]\n",
    "\n",
    "        model.fit(X_train, t_train)\n",
    "\n",
    "        y_train = model.predict(X_train)\n",
    "        y_val = model.predict(X_val)\n",
    "        scores_losses_df.loc[len(scores_losses_df)] =\\\n",
    "         [i, 'train', model.score(X_train, t_train),\n",
    "          mean_squared_error(t_train, y_train)]\n",
    "        scores_losses_df.loc[len(scores_losses_df)] =\\\n",
    "         [i, 'val', model.score(X_val, t_val), mean_squared_error(t_val, y_val)]\n",
    "\n",
    "        if use_pbar:\n",
    "            pbar.update()\n",
    "\n",
    "    if use_pbar:\n",
    "        pbar.close()\n",
    "\n",
    "    val_scores_losses_df = scores_losses_df[scores_losses_df['split']=='val']\n",
    "    train_scores_losses_df = scores_losses_df[scores_losses_df['split']=='train']\n",
    "\n",
    "    mean_val_score = val_scores_losses_df['score'].mean()\n",
    "    mean_val_loss = val_scores_losses_df['loss'].mean()\n",
    "    mean_train_score = train_scores_losses_df['score'].mean()\n",
    "    mean_train_loss = train_scores_losses_df['loss'].mean()\n",
    "\n",
    "\n",
    "    if show_score_loss_graphs:\n",
    "        # Plotting the scores\n",
    "        plt.figure(figsize=(14, 6))\n",
    "        for split in scores_losses_df['split'].unique():\n",
    "            subset = scores_losses_df[scores_losses_df['split'] == split]\n",
    "            plt.plot(subset['fold_id'], subset['score'], label=f'{split} Score')\n",
    "        plt.title(f'Mean Val Score: {mean_val_score:.2f}, Mean Train Score: {mean_train_score:.2f}')\n",
    "        plt.xlabel('Fold ID')\n",
    "        plt.ylabel('Score')\n",
    "        plt.legend()\n",
    "        plt.show()\n",
    "\n",
    "        # Plotting the losses\n",
    "        plt.figure(figsize=(14, 6))\n",
    "        for split in scores_losses_df['split'].unique():\n",
    "            subset = scores_losses_df[scores_losses_df['split'] == split]\n",
    "            plt.plot(subset['fold_id'], subset['loss'], label=f'{split} Loss')\n",
    "        plt.title(f'Mean Val Loss: {mean_val_loss:.2f}, Mean Train Loss: {mean_train_loss:.2f}')\n",
    "        plt.xlabel('Fold ID')\n",
    "        plt.ylabel('Loss')\n",
    "        plt.legend()\n",
    "        plt.show()\n",
    "\n",
    "\n",
    "    return mean_val_score, mean_val_loss,\\\n",
    "     mean_train_score, mean_train_loss"
   ]
  },
  {
   "cell_type": "code",
   "execution_count": 43,
   "metadata": {},
   "outputs": [],
   "source": [
    "def show_model_result(X, model):\n",
    "    val_score, val_loss, train_score, train_loss =\\\n",
    "     get_cv_score_and_loss(X, t,\n",
    "                           model,\n",
    "                           k=5, show_score_loss_graphs=True)\n",
    "    print(f'mean cv val score: {val_score:.2f}\\nmean cv val loss {val_loss:.2f}')\n",
    "    print(f'mean cv train score: {train_score:.2f}\\nmean cv train loss {train_loss:.2f}')"
   ]
  },
  {
   "cell_type": "markdown",
   "metadata": {},
   "source": [
    "### *K-Fold*"
   ]
  },
  {
   "cell_type": "code",
   "execution_count": 44,
   "metadata": {},
   "outputs": [],
   "source": [
    "def splitDataToKFold(X, t, k):\n",
    "    cv = KFold(n_splits=k, shuffle=True, random_state=42)\n",
    "    result = []\n",
    "    \n",
    "    for i, (train_ids, val_ids) in enumerate(cv.split(X)):\n",
    "        X_train = X.loc[train_ids]\n",
    "        t_train = t.loc[train_ids]\n",
    "        X_val = X.loc[val_ids]\n",
    "        t_val = t.loc[val_ids]\n",
    "        \n",
    "        result.append({\"X_train\": X_train\n",
    "                      ,\"t_train\" : t_train\n",
    "                      ,\"X_val\": X_val\n",
    "                      ,\"t_val\": t_val\n",
    "                      })\n",
    "    return result"
   ]
  },
  {
   "cell_type": "markdown",
   "metadata": {},
   "source": [
    "### *LOOCV: Leave-One-Out Cross-Validation*"
   ]
  },
  {
   "cell_type": "code",
   "execution_count": 45,
   "metadata": {},
   "outputs": [],
   "source": [
    "from sklearn.model_selection import LeavePOut\n",
    "\n",
    "\n",
    "def splitDataToLPOCV(X, t, p=1):\n",
    "    \"\"\"\n",
    "    Split the data using LeavePOut cross-validation.\n",
    "\n",
    "    Parameters:\n",
    "    - X: Features dataset\n",
    "    - t: Target variable\n",
    "    - p: Number of samples to leave out (default is 1 for fastest result)\n",
    "\n",
    "    Returns:\n",
    "    - List of dictionaries with train/validation splits.\n",
    "    \"\"\"\n",
    "    cv = LeavePOut(p)\n",
    "    result = []\n",
    "    max_splits = 100  # Set a limit on the number of splits to avoid excessive runtime\n",
    "    split_count = 0\n",
    "\n",
    "    for train_ids, val_ids in cv.split(X):\n",
    "        if split_count >= max_splits:\n",
    "            break\n",
    "        X_train = X.iloc[train_ids]\n",
    "        t_train = t.iloc[train_ids]\n",
    "        X_val = X.iloc[val_ids]\n",
    "        t_val = t.iloc[val_ids]\n",
    "\n",
    "        result.append({\n",
    "            \"X_train\": X_train,\n",
    "            \"t_train\": t_train,\n",
    "            \"X_val\": X_val,\n",
    "            \"t_val\": t_val\n",
    "        })\n",
    "        split_count += 1\n",
    "\n",
    "    return result"
   ]
  },
  {
   "cell_type": "markdown",
   "metadata": {},
   "source": [
    "- *Marge-Cv*"
   ]
  },
  {
   "cell_type": "code",
   "execution_count": 46,
   "metadata": {},
   "outputs": [],
   "source": [
    "def margeCV(cv):\n",
    "    X_train = []\n",
    "    t_train = []    \n",
    "    X_val = []\n",
    "    t_val = []\n",
    "    \n",
    "    for i, d in enumerate(cv):\n",
    "            X_train.append(d[\"X_train\"])\n",
    "            t_train.append(d[\"t_train\"])\n",
    "            \n",
    "            X_val.append(d[\"X_val\"])\n",
    "            t_val.append(d[\"t_val\"])\n",
    "            \n",
    "    X_train = pd.concat(X_train) \n",
    "    t_train = pd.concat(t_train) \n",
    "    X_val = pd.concat(X_val) \n",
    "    t_val = pd.concat(t_val) \n",
    "    \n",
    "    \n",
    "    return {\"X_train\": X_train,\n",
    "            \"t_train\": t_train,\n",
    "            \"X_val\": X_val,\n",
    "            \"t_val\": t_val\n",
    "            }"
   ]
  },
  {
   "cell_type": "markdown",
   "metadata": {},
   "source": [
    "## *Feature Selection*"
   ]
  },
  {
   "cell_type": "code",
   "execution_count": 47,
   "metadata": {},
   "outputs": [],
   "source": [
    "# choose the best 3 features of this dataset with SGDRegressor\n",
    "from sklearn.compose import ColumnTransformer\n",
    "from sklearn.feature_selection import RFE\n",
    "\n",
    "\n",
    "def feature_selec(X, y, n):\n",
    "    numerical_cols = X.select_dtypes(include=['int64', 'float64']).columns\n",
    "    categorical_cols = X.select_dtypes(include=['object', 'bool']).columns\n",
    "    all_cols = categorical_cols.tolist() + numerical_cols.tolist()\n",
    "    ct_enc_std = ColumnTransformer([\n",
    "                (\"encoding\", OrdinalEncoder(), categorical_cols),\n",
    "                (\"standard\", StandardScaler(), numerical_cols)])\n",
    "    X_encoded = pd.DataFrame(ct_enc_std.fit_transform(X, y), columns=all_cols)\n",
    "\n",
    "    selector = RFE(SGDRegressor(random_state=42), n_features_to_select=n).\\\n",
    "    fit(X_encoded, y)\n",
    "\n",
    "    X_encoded.loc[:, selector.support_]\n",
    "\n",
    "    # print the fetures selection list\n",
    "    features = X_encoded.loc[:, selector.support_].columns.tolist()\n",
    "    print(\"features: \", features)\n",
    "\n",
    "    # keep only the feature selection list\n",
    "    X = X[features]\n",
    "    return features"
   ]
  },
  {
   "cell_type": "code",
   "execution_count": 48,
   "metadata": {},
   "outputs": [],
   "source": [
    "from sklearn.feature_selection import RFE, SelectFromModel, SequentialFeatureSelector\n",
    "from sklearn.linear_model import SGDRegressor\n",
    "from sklearn.compose import ColumnTransformer\n",
    "from sklearn.preprocessing import OrdinalEncoder, StandardScaler\n",
    "import pandas as pd\n",
    "\n",
    "def feature_selection(X, y, method='rfe', model=SGDRegressor(random_state=42), n_features=3):\n",
    "    \"\"\"\n",
    "    Select the best features using different feature selection methods.\n",
    "\n",
    "    Parameters:\n",
    "    X (pd.DataFrame): Feature dataset\n",
    "    y (pd.Series): Target vector\n",
    "    method (str): Feature selection method ('rfe', 'forward', 'backward', 'hybrid')\n",
    "    model: Machine learning model for feature selection\n",
    "    n_features (int): Number of features to select\n",
    "\n",
    "    Returns:\n",
    "    pd.DataFrame: Dataset with selected features\n",
    "    \"\"\"\n",
    "    # Separate numerical and categorical columns\n",
    "    numerical_cols = X.select_dtypes(include=['int64', 'float64']).columns\n",
    "    categorical_cols = X.select_dtypes(include=['object', 'bool']).columns\n",
    "    all_cols = categorical_cols.tolist() + numerical_cols.tolist()\n",
    "\n",
    "    # Create a column transformer for encoding and scaling\n",
    "    ct_enc_std = ColumnTransformer([\n",
    "        (\"encoding\", OrdinalEncoder(), categorical_cols),\n",
    "        (\"standard\", StandardScaler(), numerical_cols)\n",
    "    ])\n",
    "\n",
    "    # Encode and standardize the features\n",
    "    X_encoded = pd.DataFrame(ct_enc_std.fit_transform(X, y), columns=all_cols)\n",
    "\n",
    "    # Initialize the selector based on the chosen method\n",
    "    if method == 'rfe':\n",
    "        selector = RFE(model, n_features_to_select=n_features)\n",
    "    elif method == 'forward':\n",
    "        selector = SequentialFeatureSelector(model, n_features_to_select=n_features, direction='forward')\n",
    "    elif method == 'backward':\n",
    "        selector = SequentialFeatureSelector(model, n_features_to_select=n_features, direction='backward')\n",
    "    elif method == 'hybrid':\n",
    "        selector = SelectFromModel(model, max_features=n_features)\n",
    "    else:\n",
    "        raise ValueError(\"Invalid method. Choose from 'rfe', 'forward', 'backward', or 'hybrid'.\")\n",
    "\n",
    "    # Fit the selector and transform the dataset\n",
    "    selector.fit(X_encoded, y)\n",
    "    selected_features = X_encoded.columns[selector.get_support()]\n",
    "\n",
    "    return X_encoded.loc[:, selected_features]"
   ]
  },
  {
   "cell_type": "markdown",
   "metadata": {},
   "source": [
    "- *Call the feature Selection By Different Usage*"
   ]
  },
  {
   "cell_type": "code",
   "execution_count": 49,
   "metadata": {},
   "outputs": [
    {
     "name": "stdout",
     "output_type": "stream",
     "text": [
      "features:  ['MSZoning', 'Street', 'LandContour', 'LandSlope', 'Condition2', 'BldgType', 'RoofStyle', 'RoofMatl', 'MasVnrType', 'ExterQual', 'ExterCond', 'Foundation', 'BsmtCond', 'BsmtExposure', 'BsmtFinType2', 'Heating', 'CentralAir', 'Functional', 'FireplaceQu', 'GarageQual', 'GarageCond', 'PavedDrive', 'SaleCondition', 'MSSubClass', 'LotFrontage', 'LotArea', 'OverallQual', 'OverallCond', 'BsmtUnfSF', 'TotalBsmtSF', '1stFlrSF', '2ndFlrSF', 'GrLivArea', 'HalfBath', 'BedroomAbvGr', 'KitchenAbvGr', 'TotRmsAbvGrd', 'Fireplaces', 'GarageCars', 'GarageArea', 'WoodDeckSF', 'ScreenPorch', 'TotalSqureF', 'TotalBath', 'AgeOfRenovation']\n"
     ]
    }
   ],
   "source": [
    "best_features = feature_selec(X, t , 45)"
   ]
  },
  {
   "cell_type": "markdown",
   "metadata": {},
   "source": [
    "## *Build The Models*"
   ]
  },
  {
   "cell_type": "markdown",
   "metadata": {},
   "source": [
    "*this function is used to train the models and evaluate them using the validation dataset.<br> it takes the training and validation datasets and the* *selected models to train*\n",
    "*it also takes the number of iterations to search for the best hyperparameters it returns the trained models, the mean squared error for each model, and the score for each model*"
   ]
  },
  {
   "cell_type": "code",
   "execution_count": 50,
   "metadata": {},
   "outputs": [],
   "source": [
    "import numpy as np\n",
    "import matplotlib.pyplot as plt\n",
    "from sklearn.model_selection import RandomizedSearchCV\n",
    "from scipy.stats import uniform\n",
    "from sklearn.linear_model import LinearRegression, Ridge, SGDRegressor, Lasso, ElasticNet\n",
    "from sklearn.metrics import mean_squared_error\n",
    "import pandas as pd\n",
    "\n",
    "def train_models_and_evaluate(X_train, t_train, X_val, t_val, selected_models=None, n_iter=10):\n",
    "    # Hyperparameter distributions for random search\n",
    "    hyperparameter_distributions = {\n",
    "        'SGD Regressor': {\n",
    "            'alpha': uniform(loc=0, scale=0.1),  # Example: searching for regularization parameter\n",
    "            'penalty': ['l2', 'l1', 'elasticnet']\n",
    "        },\n",
    "        'Linear Regression': {},\n",
    "        'Ridge Regression': {\n",
    "            'alpha': uniform(loc=0, scale=10)  # Example: searching for regularization parameter\n",
    "        },\n",
    "        'Lasso Regression': {\n",
    "            'alpha': uniform(loc=0, scale=10)  # Example: searching for regularization parameter\n",
    "        },\n",
    "        'Elastic Net Regression': {\n",
    "            'alpha': uniform(loc=0, scale=10),  # Example: searching for regularization parameter\n",
    "            'l1_ratio': uniform(loc=0, scale=1)  # L1 to L2 ratio\n",
    "        }\n",
    "    }\n",
    "\n",
    "    # Initialize models\n",
    "    models = {\n",
    "        'SGD Regressor': SGDRegressor(max_iter=1000, tol=1e-3, random_state=42),\n",
    "        'Linear Regression': LinearRegression(),\n",
    "        'Ridge Regression': Ridge(),\n",
    "        'Lasso Regression': Lasso(),\n",
    "        'Elastic Net Regression': ElasticNet()\n",
    "    }\n",
    "\n",
    "    # If specific models are selected, filter the models dictionary\n",
    "    if selected_models:\n",
    "        models = {name: model for name, model in models.items() if name in selected_models}\n",
    "        hyperparameter_distributions = {name: dist for name, dist in hyperparameter_distributions.items() if name in selected_models}\n",
    "\n",
    "    # Dictionaries to store trained models and their MSE\n",
    "    trained_models = {}\n",
    "    mse_dict = {}\n",
    "    score_dict = {}\n",
    "\n",
    "    # Train each model with hyperparameter tuning\n",
    "    for name, model in models.items():\n",
    "        print(f\"Training {name}...\")\n",
    "        if name in hyperparameter_distributions and hyperparameter_distributions[name]:  # Check if we have hyperparameters to search\n",
    "            rs_model = RandomizedSearchCV(\n",
    "                model,\n",
    "                hyperparameter_distributions[name],\n",
    "                n_iter=n_iter,  # Number of iterations for random search\n",
    "                random_state=42,\n",
    "                scoring='neg_mean_squared_error',  # Negative MSE as we want to minimize it\n",
    "                n_jobs=-1,\n",
    "                return_train_score=True\n",
    "            )\n",
    "            rs_model.fit(X_train, t_train)\n",
    "            best_model = rs_model.best_estimator_\n",
    "            results = pd.DataFrame(rs_model.cv_results_)\n",
    "            print(f\"Best parameters for {name}: {rs_model.best_params_}\")\n",
    "        else:\n",
    "            best_model = model.fit(X_train, t_train)\n",
    "            results = None\n",
    "        \n",
    "        trained_models[name] = best_model\n",
    "        score = best_model.score(X_val, t_val)\n",
    "        predictions = best_model.predict(X_val)\n",
    "        mse = mean_squared_error(t_val, predictions)\n",
    "        mse_dict[name] = mse\n",
    "        score_dict[name] = score\n",
    "        print(f\"Done training: {name}\")\n",
    "\n",
    "        # Plotting graphs of the loss and accuracy as functions of different hyperparameters\n",
    "        if results is not None:\n",
    "            plt.figure(figsize=(12, 6))\n",
    "\n",
    "            # Loss plot\n",
    "            plt.subplot(1, 2, 1)\n",
    "            plt.plot(-results['mean_test_score'], label='Validation Loss (Neg MSE)')\n",
    "            plt.xlabel('Iteration')\n",
    "            plt.ylabel('Loss (Neg MSE)')\n",
    "            plt.title(f'{name} - Validation Loss over Iterations')\n",
    "            plt.legend()\n",
    "\n",
    "            # Accuracy plot\n",
    "            plt.subplot(1, 2, 2)\n",
    "            plt.plot(results['mean_train_score'], label='Training Score (R²)', color='blue')\n",
    "            plt.plot(results['mean_test_score'], label='Validation Score (R²)', color='orange')\n",
    "            plt.xlabel('Iteration')\n",
    "            plt.ylabel('Score (R²)')\n",
    "            plt.title(f'{name} - Training and Validation Scores over Iterations')\n",
    "            plt.legend()\n",
    "\n",
    "            plt.tight_layout()\n",
    "            plt.show()\n",
    "\n",
    "    return trained_models, mse_dict, score_dict"
   ]
  },
  {
   "cell_type": "code",
   "execution_count": 51,
   "metadata": {},
   "outputs": [],
   "source": [
    "# print thr details of mse_dict\n",
    "def print_models_mse(mse_dict):\n",
    "    print('----------------------------------\\n')\n",
    "    for model, mse in mse_dict.items():\n",
    "        print(f\"{model} MSE: {mse}\")\n",
    "    print('\\n----------------------------------\\n')\n",
    "\n",
    "def print_models_score(score_dict):\n",
    "    print('----------------------------------\\n')\n",
    "    for model, score in score_dict.items():\n",
    "        print(f\"{model} score: {score}\")\n",
    "    print('\\n----------------------------------\\n')"
   ]
  },
  {
   "cell_type": "markdown",
   "metadata": {},
   "source": [
    "#### *KFold - making a variables*"
   ]
  },
  {
   "cell_type": "code",
   "execution_count": 52,
   "metadata": {},
   "outputs": [],
   "source": [
    "# cv = splitDataToKFold(X, t, 5)\n",
    "# cv = margeCV(cv)\n",
    "\n",
    "# X_train = cv[\"X_train\"]\n",
    "# t_train = cv[\"t_train\"]\n",
    "# X_val = cv[\"X_val\"]\n",
    "# t_val = cv[\"t_val\"]"
   ]
  },
  {
   "cell_type": "code",
   "execution_count": 53,
   "metadata": {},
   "outputs": [],
   "source": [
    "# selected_models = ['SGD Regressor', 'Ridge Regression', 'Linear Regression', 'Lasso Regression', 'Elastic Net Regression']"
   ]
  },
  {
   "cell_type": "code",
   "execution_count": 54,
   "metadata": {},
   "outputs": [],
   "source": [
    "# # calling the evaluate_models function\n",
    "# trained_models, mse_dict, score_dict = train_models_and_evaluate(X_train, t_train, X_val, t_val, selected_models)"
   ]
  },
  {
   "cell_type": "code",
   "execution_count": 55,
   "metadata": {},
   "outputs": [],
   "source": [
    "# print_models_mse(mse_dict)\n",
    "# print_models_score(score_dict)"
   ]
  },
  {
   "cell_type": "markdown",
   "metadata": {},
   "source": [
    "#### *Running The Models With The Best Features*"
   ]
  },
  {
   "cell_type": "code",
   "execution_count": 56,
   "metadata": {},
   "outputs": [],
   "source": [
    "# #making a model with the best features\n",
    "# X = train_data[best_features] \n",
    "\n",
    "# cv = splitDataToKFold(X, t, 5)\n",
    "# cv = margeCV(cv)\n",
    "\n",
    "# X_train = cv[\"X_train\"]\n",
    "# t_train = cv[\"t_train\"]\n",
    "# X_val = cv[\"X_val\"]\n",
    "# t_val = cv[\"t_val\"]\n",
    "\n",
    "# # calling the evaluate_models function\n",
    "# trained_models, mse_dict ,score_dict = train_models_and_evaluate(X_train, t_train, X_val, t_val, selected_models)\n",
    "# print(\"\\n\\n\")\n",
    "# print_models_mse(mse_dict)\n",
    "# print_models_score(score_dict)"
   ]
  },
  {
   "cell_type": "code",
   "execution_count": 57,
   "metadata": {},
   "outputs": [],
   "source": [
    "# print(score_dict)\n",
    "\n",
    "# def plot_score(score_dict):\n",
    "#     plt.figure(figsize=(10, 6))\n",
    "#     sns.barplot(x=list(score_dict.keys()), y=list(score_dict.values()))\n",
    "#     plt.title('Model Scores')\n",
    "#     plt.ylabel('Score')\n",
    "#     plt.xlabel('Model')\n",
    "#     plt.show()\n",
    "# # plot the score but not the SGDRegressor\n",
    "# score_dict.pop('SGD Regressor')\n",
    "# plot_score(score_dict)"
   ]
  },
  {
   "cell_type": "code",
   "execution_count": 58,
   "metadata": {},
   "outputs": [],
   "source": [
    "# # make a graph for the best model\n",
    "# def plot_predictions(model, X, t):\n",
    "#     predictions = model.predict(X)\n",
    "#     plt.figure(figsize=(10, 6))\n",
    "#     plt.scatter(t, predictions, color='blue')\n",
    "#     plt.plot([t.min(), t.max()], [t.min(), t.max()], color='red')\n",
    "#     plt.xlabel('Actual')\n",
    "#     plt.ylabel('Predicted')\n",
    "#     plt.title('Actual vs. Predicted')\n",
    "#     plt.show()\n",
    "\n",
    "# # plot the best model\n",
    "# best_model_str = 'Ridge Regression'\n",
    "# best_model_kfold = trained_models[best_model_str]\n",
    "# best_model_kfold_score = score_dict[best_model_str]\n",
    "# plot_predictions(best_model_kfold, X_val, t_val)\n",
    "\n"
   ]
  },
  {
   "cell_type": "markdown",
   "metadata": {},
   "source": [
    "#### *LPOCV - making a variables*"
   ]
  },
  {
   "cell_type": "code",
   "execution_count": 59,
   "metadata": {},
   "outputs": [],
   "source": [
    "# X = train_data.drop('SalePrice', axis=1)\n",
    "# t = train_data['SalePrice']\n",
    "\n",
    "# X_test = test_data"
   ]
  },
  {
   "cell_type": "code",
   "execution_count": 60,
   "metadata": {},
   "outputs": [],
   "source": [
    "# cv = splitDataToLPOCV(X, t, 70)\n",
    "# cv = margeCV(cv)\n",
    "\n",
    "# X_train = cv[\"X_train\"]\n",
    "# t_train = cv[\"t_train\"]\n",
    "# X_val = cv[\"X_val\"]\n",
    "# t_val = cv[\"t_val\"]"
   ]
  },
  {
   "cell_type": "code",
   "execution_count": 61,
   "metadata": {},
   "outputs": [],
   "source": [
    "# print(X_train.shape)\n",
    "# print(t_train.shape)"
   ]
  },
  {
   "cell_type": "code",
   "execution_count": 62,
   "metadata": {},
   "outputs": [],
   "source": [
    "# selected_models = ['SGD Regressor', 'Ridge Regression', 'Linear Regression']"
   ]
  },
  {
   "cell_type": "code",
   "execution_count": 63,
   "metadata": {},
   "outputs": [],
   "source": [
    "# # calling the evaluate_models function\n",
    "# trained_models, mse_dict, score_dict = train_models_and_evaluate(X_train, t_train, X_val, t_val, selected_models)"
   ]
  },
  {
   "cell_type": "code",
   "execution_count": 64,
   "metadata": {},
   "outputs": [],
   "source": [
    "# print_models_mse(mse_dict)\n",
    "# print_models_score(score_dict)"
   ]
  },
  {
   "cell_type": "markdown",
   "metadata": {},
   "source": [
    "#### *Running The Models With The Best Features*"
   ]
  },
  {
   "cell_type": "code",
   "execution_count": 65,
   "metadata": {},
   "outputs": [],
   "source": [
    "# #making a model with the best features\n",
    "# X = train_data[best_features]\n",
    "\n",
    "# cv = splitDataToLPOCV(X, t, 70)\n",
    "# cv = margeCV(cv)\n",
    "\n",
    "# X_train = cv[\"X_train\"]\n",
    "# t_train = cv[\"t_train\"]\n",
    "# X_val = cv[\"X_val\"]\n",
    "# t_val = cv[\"t_val\"]\n",
    "\n",
    "# # calling the evaluate_models function\n",
    "# trained_models, mse_dict ,score_dict = train_models_and_evaluate(X_train, t_train, X_val, t_val, selected_models)\n",
    "# print(\"\\n\\n\")\n",
    "# print_models_mse(mse_dict)\n",
    "# print_models_score(score_dict)"
   ]
  },
  {
   "cell_type": "code",
   "execution_count": 66,
   "metadata": {},
   "outputs": [],
   "source": [
    "# # plot the score but not the SGDRegressor\n",
    "# score_dict.pop('SGD Regressor')\n",
    "# plot_score(score_dict)"
   ]
  },
  {
   "cell_type": "code",
   "execution_count": 67,
   "metadata": {},
   "outputs": [],
   "source": [
    "# # plot the best model\n",
    "# best_model_str = 'Ridge Regression'\n",
    "# best_model_LPOCV = trained_models[best_model_str]\n",
    "# best_model_LPOCV_score = score_dict[best_model_str]\n",
    "# plot_predictions(best_model_LPOCV, X_val, t_val)"
   ]
  },
  {
   "cell_type": "markdown",
   "metadata": {},
   "source": [
    "#### *Choosing The Best Models*"
   ]
  },
  {
   "cell_type": "code",
   "execution_count": 68,
   "metadata": {},
   "outputs": [],
   "source": [
    "# # show the diffreces between best_model_LPOCV_score and best_model_kfold_score using barplot\n",
    "# def plot_predictions_diff(score1, score2):\n",
    "#     plt.figure(figsize=(10, 6))\n",
    "#     sns.barplot(x=['LPOCV', 'KFold'], y=[score1, score2])\n",
    "#     plt.title('Model Scores')\n",
    "#     plt.ylabel('Score')\n",
    "#     plt.xlabel('Model')\n",
    "#     plt.show()\n",
    "    \n",
    "    \n",
    "    "
   ]
  },
  {
   "cell_type": "code",
   "execution_count": 69,
   "metadata": {},
   "outputs": [],
   "source": [
    "# plot_predictions_diff(best_model_LPOCV_score, best_model_kfold_score)"
   ]
  },
  {
   "cell_type": "markdown",
   "metadata": {},
   "source": [
    "# *Prediction*"
   ]
  },
  {
   "cell_type": "code",
   "execution_count": 70,
   "metadata": {},
   "outputs": [],
   "source": [
    "# best_model = best_model_kfold"
   ]
  },
  {
   "cell_type": "code",
   "execution_count": 71,
   "metadata": {},
   "outputs": [],
   "source": [
    "# X_test = test_data[best_features]\n",
    "# predictions = best_model.predict(X_test)\n",
    "# test_data[\"Id\"] = test_data_id\n",
    "# output = pd.DataFrame({'Id': test_data['Id'], 'SalePrice': predictions})\n",
    "# output.to_csv('submission.csv', index=False)\n",
    "# print(\"Done!\")"
   ]
  },
  {
   "cell_type": "markdown",
   "metadata": {},
   "source": [
    "\n",
    "## Summary\n",
    "\n",
    "We employed several regression techniques (Lasso, Ridge, and ElasticNet) to predict house prices. The most effective model was Ridge Regression, which balanced bias and variance effectively. The model was optimized using cross-validation and hyperparameter tuning. The key takeaways include the importance of feature selection and the impact of regularization on improving model performance. Features like 'OverallQual', 'GrLivArea', and 'GarageCars' were particularly influential in predicting house prices. The final model's performance was evaluated using RMSE on the test set, and the results were submitted to Kaggle for leaderboard ranking.\n",
    "\n",
    "# References:\n",
    "Kaggle House Prices Competition:  \n",
    "[House Prices - Advanced Regression Techniques](https://www.kaggle.com/c/house-prices-advanced-regression-techniques)\n",
    "\n",
    "Machine Learning Resources and Documentation:  \n",
    "[Scikit-Learn User Guide](https://scikit-learn.org/stable/user_guide.html)\n",
    "\n",
    "Data Science Tutorials and Guides:  \n",
    "[Data Science for Beginners](https://www.kaggle.com/learn/overview) "
   ]
  },
  {
   "cell_type": "markdown",
   "metadata": {},
   "source": [
    "# Exercise 4"
   ]
  },
  {
   "cell_type": "markdown",
   "metadata": {},
   "source": [
    "## TL;DR\n",
    "\n",
    "WRITE HERE"
   ]
  },
  {
   "cell_type": "markdown",
   "metadata": {},
   "source": [
    "- Change the encoding technique used in exercise 2."
   ]
  },
  {
   "cell_type": "code",
   "execution_count": 72,
   "metadata": {},
   "outputs": [],
   "source": [
    "# determine categorical and numerical features\n",
    "numerical_cols = train_data.select_dtypes(include=['int64', 'float64']).columns\n",
    "categorical_cols = train_data.select_dtypes(include=['object', 'bool']).columns\n",
    "all_cols = np.array(train_data.columns)"
   ]
  },
  {
   "cell_type": "code",
   "execution_count": 73,
   "metadata": {},
   "outputs": [
    {
     "name": "stdout",
     "output_type": "stream",
     "text": [
      "(1460, 77)\n",
      "(1459, 77)\n"
     ]
    }
   ],
   "source": [
    "from sklearn.preprocessing import OneHotEncoder\n",
    "from sklearn.preprocessing import OrdinalEncoder\n",
    "from sklearn.preprocessing import StandardScaler\n",
    "from sklearn.compose import ColumnTransformer\n",
    "\n",
    "# use column transformer to insert different transformers for each column\n",
    "\n",
    "numerical_cols = X.select_dtypes(include=['int32', 'int64', 'float64']).columns\n",
    "categorical_cols = X.select_dtypes(include=['object', 'bool']).columns\n",
    "all_cols = list(categorical_cols) + list(numerical_cols)\n",
    "ct_enc_std = ColumnTransformer([\n",
    "            (\"encoding\", OrdinalEncoder(), categorical_cols),\n",
    "            (\"standard\", StandardScaler(), numerical_cols)])\n",
    "X_enc_part2 = pd.DataFrame(ct_enc_std.fit_transform(X, t), columns=all_cols)\n",
    "test_X_enc_part2 = pd.DataFrame(ct_enc_std.fit_transform(test_data_part2), columns=X_enc_part2.columns.values.tolist())\n",
    "\n",
    "\n",
    "print(X_enc_part2.shape)\n",
    "print(test_X_enc_part2.shape)"
   ]
  },
  {
   "cell_type": "markdown",
   "metadata": {},
   "source": [
    "- Check the data"
   ]
  },
  {
   "cell_type": "code",
   "execution_count": 74,
   "metadata": {},
   "outputs": [
    {
     "name": "stdout",
     "output_type": "stream",
     "text": [
      "X\n"
     ]
    },
    {
     "data": {
      "text/html": [
       "<div>\n",
       "<style scoped>\n",
       "    .dataframe tbody tr th:only-of-type {\n",
       "        vertical-align: middle;\n",
       "    }\n",
       "\n",
       "    .dataframe tbody tr th {\n",
       "        vertical-align: top;\n",
       "    }\n",
       "\n",
       "    .dataframe thead th {\n",
       "        text-align: right;\n",
       "    }\n",
       "</style>\n",
       "<table border=\"1\" class=\"dataframe\">\n",
       "  <thead>\n",
       "    <tr style=\"text-align: right;\">\n",
       "      <th></th>\n",
       "      <th>MSZoning</th>\n",
       "      <th>Street</th>\n",
       "      <th>LotShape</th>\n",
       "      <th>LandContour</th>\n",
       "      <th>Utilities</th>\n",
       "      <th>LotConfig</th>\n",
       "      <th>LandSlope</th>\n",
       "      <th>Neighborhood</th>\n",
       "      <th>Condition1</th>\n",
       "      <th>Condition2</th>\n",
       "      <th>...</th>\n",
       "      <th>3SsnPorch</th>\n",
       "      <th>ScreenPorch</th>\n",
       "      <th>PoolArea</th>\n",
       "      <th>MoSold</th>\n",
       "      <th>YrSold</th>\n",
       "      <th>TotalSqureF</th>\n",
       "      <th>AgeOfHouse</th>\n",
       "      <th>TotalBath</th>\n",
       "      <th>AgeOfRenovation</th>\n",
       "      <th>TotalPorchSF</th>\n",
       "    </tr>\n",
       "  </thead>\n",
       "  <tbody>\n",
       "    <tr>\n",
       "      <th>0</th>\n",
       "      <td>3.0</td>\n",
       "      <td>1.0</td>\n",
       "      <td>3.0</td>\n",
       "      <td>3.0</td>\n",
       "      <td>0.0</td>\n",
       "      <td>4.0</td>\n",
       "      <td>0.0</td>\n",
       "      <td>5.0</td>\n",
       "      <td>2.0</td>\n",
       "      <td>2.0</td>\n",
       "      <td>...</td>\n",
       "      <td>-0.116339</td>\n",
       "      <td>-0.270208</td>\n",
       "      <td>-0.068692</td>\n",
       "      <td>-1.599111</td>\n",
       "      <td>0.138777</td>\n",
       "      <td>0.077188</td>\n",
       "      <td>-1.043259</td>\n",
       "      <td>1.642256</td>\n",
       "      <td>-0.869941</td>\n",
       "      <td>-0.248063</td>\n",
       "    </tr>\n",
       "    <tr>\n",
       "      <th>1</th>\n",
       "      <td>3.0</td>\n",
       "      <td>1.0</td>\n",
       "      <td>3.0</td>\n",
       "      <td>3.0</td>\n",
       "      <td>0.0</td>\n",
       "      <td>2.0</td>\n",
       "      <td>0.0</td>\n",
       "      <td>24.0</td>\n",
       "      <td>1.0</td>\n",
       "      <td>2.0</td>\n",
       "      <td>...</td>\n",
       "      <td>-0.116339</td>\n",
       "      <td>-0.270208</td>\n",
       "      <td>-0.068692</td>\n",
       "      <td>-0.489110</td>\n",
       "      <td>-0.614439</td>\n",
       "      <td>-0.058465</td>\n",
       "      <td>-0.183465</td>\n",
       "      <td>0.368581</td>\n",
       "      <td>0.390141</td>\n",
       "      <td>-0.828163</td>\n",
       "    </tr>\n",
       "    <tr>\n",
       "      <th>2</th>\n",
       "      <td>3.0</td>\n",
       "      <td>1.0</td>\n",
       "      <td>0.0</td>\n",
       "      <td>3.0</td>\n",
       "      <td>0.0</td>\n",
       "      <td>4.0</td>\n",
       "      <td>0.0</td>\n",
       "      <td>5.0</td>\n",
       "      <td>2.0</td>\n",
       "      <td>2.0</td>\n",
       "      <td>...</td>\n",
       "      <td>-0.116339</td>\n",
       "      <td>-0.270208</td>\n",
       "      <td>-0.068692</td>\n",
       "      <td>0.990891</td>\n",
       "      <td>0.138777</td>\n",
       "      <td>0.285886</td>\n",
       "      <td>-0.977121</td>\n",
       "      <td>1.642256</td>\n",
       "      <td>-0.821476</td>\n",
       "      <td>-0.428750</td>\n",
       "    </tr>\n",
       "    <tr>\n",
       "      <th>3</th>\n",
       "      <td>3.0</td>\n",
       "      <td>1.0</td>\n",
       "      <td>0.0</td>\n",
       "      <td>3.0</td>\n",
       "      <td>0.0</td>\n",
       "      <td>0.0</td>\n",
       "      <td>0.0</td>\n",
       "      <td>6.0</td>\n",
       "      <td>2.0</td>\n",
       "      <td>2.0</td>\n",
       "      <td>...</td>\n",
       "      <td>-0.116339</td>\n",
       "      <td>-0.270208</td>\n",
       "      <td>-0.068692</td>\n",
       "      <td>-1.599111</td>\n",
       "      <td>-1.367655</td>\n",
       "      <td>0.078232</td>\n",
       "      <td>1.800676</td>\n",
       "      <td>-0.268257</td>\n",
       "      <td>0.632464</td>\n",
       "      <td>2.091355</td>\n",
       "    </tr>\n",
       "    <tr>\n",
       "      <th>4</th>\n",
       "      <td>3.0</td>\n",
       "      <td>1.0</td>\n",
       "      <td>0.0</td>\n",
       "      <td>3.0</td>\n",
       "      <td>0.0</td>\n",
       "      <td>2.0</td>\n",
       "      <td>0.0</td>\n",
       "      <td>15.0</td>\n",
       "      <td>2.0</td>\n",
       "      <td>2.0</td>\n",
       "      <td>...</td>\n",
       "      <td>-0.116339</td>\n",
       "      <td>-0.270208</td>\n",
       "      <td>-0.068692</td>\n",
       "      <td>2.100892</td>\n",
       "      <td>0.138777</td>\n",
       "      <td>1.188505</td>\n",
       "      <td>-0.944052</td>\n",
       "      <td>1.642256</td>\n",
       "      <td>-0.724547</td>\n",
       "      <td>-0.029337</td>\n",
       "    </tr>\n",
       "    <tr>\n",
       "      <th>...</th>\n",
       "      <td>...</td>\n",
       "      <td>...</td>\n",
       "      <td>...</td>\n",
       "      <td>...</td>\n",
       "      <td>...</td>\n",
       "      <td>...</td>\n",
       "      <td>...</td>\n",
       "      <td>...</td>\n",
       "      <td>...</td>\n",
       "      <td>...</td>\n",
       "      <td>...</td>\n",
       "      <td>...</td>\n",
       "      <td>...</td>\n",
       "      <td>...</td>\n",
       "      <td>...</td>\n",
       "      <td>...</td>\n",
       "      <td>...</td>\n",
       "      <td>...</td>\n",
       "      <td>...</td>\n",
       "      <td>...</td>\n",
       "      <td>...</td>\n",
       "    </tr>\n",
       "    <tr>\n",
       "      <th>1455</th>\n",
       "      <td>3.0</td>\n",
       "      <td>1.0</td>\n",
       "      <td>3.0</td>\n",
       "      <td>3.0</td>\n",
       "      <td>0.0</td>\n",
       "      <td>4.0</td>\n",
       "      <td>0.0</td>\n",
       "      <td>8.0</td>\n",
       "      <td>2.0</td>\n",
       "      <td>2.0</td>\n",
       "      <td>...</td>\n",
       "      <td>-0.116339</td>\n",
       "      <td>-0.270208</td>\n",
       "      <td>-0.068692</td>\n",
       "      <td>0.620891</td>\n",
       "      <td>-0.614439</td>\n",
       "      <td>0.020840</td>\n",
       "      <td>-0.944052</td>\n",
       "      <td>0.368581</td>\n",
       "      <td>-0.773012</td>\n",
       "      <td>-0.447770</td>\n",
       "    </tr>\n",
       "    <tr>\n",
       "      <th>1456</th>\n",
       "      <td>3.0</td>\n",
       "      <td>1.0</td>\n",
       "      <td>3.0</td>\n",
       "      <td>3.0</td>\n",
       "      <td>0.0</td>\n",
       "      <td>4.0</td>\n",
       "      <td>0.0</td>\n",
       "      <td>14.0</td>\n",
       "      <td>2.0</td>\n",
       "      <td>2.0</td>\n",
       "      <td>...</td>\n",
       "      <td>-0.116339</td>\n",
       "      <td>-0.270208</td>\n",
       "      <td>-0.068692</td>\n",
       "      <td>-1.599111</td>\n",
       "      <td>1.645210</td>\n",
       "      <td>1.121721</td>\n",
       "      <td>-0.150396</td>\n",
       "      <td>1.005418</td>\n",
       "      <td>-0.046041</td>\n",
       "      <td>-0.828163</td>\n",
       "    </tr>\n",
       "    <tr>\n",
       "      <th>1457</th>\n",
       "      <td>3.0</td>\n",
       "      <td>1.0</td>\n",
       "      <td>3.0</td>\n",
       "      <td>3.0</td>\n",
       "      <td>0.0</td>\n",
       "      <td>4.0</td>\n",
       "      <td>0.0</td>\n",
       "      <td>6.0</td>\n",
       "      <td>2.0</td>\n",
       "      <td>2.0</td>\n",
       "      <td>...</td>\n",
       "      <td>-0.116339</td>\n",
       "      <td>-0.270208</td>\n",
       "      <td>-0.068692</td>\n",
       "      <td>-0.489110</td>\n",
       "      <td>1.645210</td>\n",
       "      <td>0.734587</td>\n",
       "      <td>1.073157</td>\n",
       "      <td>-0.268257</td>\n",
       "      <td>-0.918406</td>\n",
       "      <td>-0.257573</td>\n",
       "    </tr>\n",
       "    <tr>\n",
       "      <th>1458</th>\n",
       "      <td>3.0</td>\n",
       "      <td>1.0</td>\n",
       "      <td>3.0</td>\n",
       "      <td>3.0</td>\n",
       "      <td>0.0</td>\n",
       "      <td>4.0</td>\n",
       "      <td>0.0</td>\n",
       "      <td>12.0</td>\n",
       "      <td>2.0</td>\n",
       "      <td>2.0</td>\n",
       "      <td>...</td>\n",
       "      <td>-0.116339</td>\n",
       "      <td>-0.270208</td>\n",
       "      <td>-0.068692</td>\n",
       "      <td>-0.859110</td>\n",
       "      <td>1.645210</td>\n",
       "      <td>-0.672037</td>\n",
       "      <td>0.775536</td>\n",
       "      <td>-0.268257</td>\n",
       "      <td>-0.433759</td>\n",
       "      <td>0.236938</td>\n",
       "    </tr>\n",
       "    <tr>\n",
       "      <th>1459</th>\n",
       "      <td>3.0</td>\n",
       "      <td>1.0</td>\n",
       "      <td>3.0</td>\n",
       "      <td>3.0</td>\n",
       "      <td>0.0</td>\n",
       "      <td>4.0</td>\n",
       "      <td>0.0</td>\n",
       "      <td>7.0</td>\n",
       "      <td>2.0</td>\n",
       "      <td>2.0</td>\n",
       "      <td>...</td>\n",
       "      <td>-0.116339</td>\n",
       "      <td>-0.270208</td>\n",
       "      <td>-0.068692</td>\n",
       "      <td>-0.119110</td>\n",
       "      <td>0.138777</td>\n",
       "      <td>-0.262989</td>\n",
       "      <td>0.213363</td>\n",
       "      <td>0.368581</td>\n",
       "      <td>0.971717</td>\n",
       "      <td>-0.181494</td>\n",
       "    </tr>\n",
       "  </tbody>\n",
       "</table>\n",
       "<p>1460 rows × 77 columns</p>\n",
       "</div>"
      ],
      "text/plain": [
       "      MSZoning  Street  LotShape  LandContour  Utilities  LotConfig  \\\n",
       "0          3.0     1.0       3.0          3.0        0.0        4.0   \n",
       "1          3.0     1.0       3.0          3.0        0.0        2.0   \n",
       "2          3.0     1.0       0.0          3.0        0.0        4.0   \n",
       "3          3.0     1.0       0.0          3.0        0.0        0.0   \n",
       "4          3.0     1.0       0.0          3.0        0.0        2.0   \n",
       "...        ...     ...       ...          ...        ...        ...   \n",
       "1455       3.0     1.0       3.0          3.0        0.0        4.0   \n",
       "1456       3.0     1.0       3.0          3.0        0.0        4.0   \n",
       "1457       3.0     1.0       3.0          3.0        0.0        4.0   \n",
       "1458       3.0     1.0       3.0          3.0        0.0        4.0   \n",
       "1459       3.0     1.0       3.0          3.0        0.0        4.0   \n",
       "\n",
       "      LandSlope  Neighborhood  Condition1  Condition2  ...  3SsnPorch  \\\n",
       "0           0.0           5.0         2.0         2.0  ...  -0.116339   \n",
       "1           0.0          24.0         1.0         2.0  ...  -0.116339   \n",
       "2           0.0           5.0         2.0         2.0  ...  -0.116339   \n",
       "3           0.0           6.0         2.0         2.0  ...  -0.116339   \n",
       "4           0.0          15.0         2.0         2.0  ...  -0.116339   \n",
       "...         ...           ...         ...         ...  ...        ...   \n",
       "1455        0.0           8.0         2.0         2.0  ...  -0.116339   \n",
       "1456        0.0          14.0         2.0         2.0  ...  -0.116339   \n",
       "1457        0.0           6.0         2.0         2.0  ...  -0.116339   \n",
       "1458        0.0          12.0         2.0         2.0  ...  -0.116339   \n",
       "1459        0.0           7.0         2.0         2.0  ...  -0.116339   \n",
       "\n",
       "      ScreenPorch  PoolArea    MoSold    YrSold  TotalSqureF  AgeOfHouse  \\\n",
       "0       -0.270208 -0.068692 -1.599111  0.138777     0.077188   -1.043259   \n",
       "1       -0.270208 -0.068692 -0.489110 -0.614439    -0.058465   -0.183465   \n",
       "2       -0.270208 -0.068692  0.990891  0.138777     0.285886   -0.977121   \n",
       "3       -0.270208 -0.068692 -1.599111 -1.367655     0.078232    1.800676   \n",
       "4       -0.270208 -0.068692  2.100892  0.138777     1.188505   -0.944052   \n",
       "...           ...       ...       ...       ...          ...         ...   \n",
       "1455    -0.270208 -0.068692  0.620891 -0.614439     0.020840   -0.944052   \n",
       "1456    -0.270208 -0.068692 -1.599111  1.645210     1.121721   -0.150396   \n",
       "1457    -0.270208 -0.068692 -0.489110  1.645210     0.734587    1.073157   \n",
       "1458    -0.270208 -0.068692 -0.859110  1.645210    -0.672037    0.775536   \n",
       "1459    -0.270208 -0.068692 -0.119110  0.138777    -0.262989    0.213363   \n",
       "\n",
       "      TotalBath  AgeOfRenovation  TotalPorchSF  \n",
       "0      1.642256        -0.869941     -0.248063  \n",
       "1      0.368581         0.390141     -0.828163  \n",
       "2      1.642256        -0.821476     -0.428750  \n",
       "3     -0.268257         0.632464      2.091355  \n",
       "4      1.642256        -0.724547     -0.029337  \n",
       "...         ...              ...           ...  \n",
       "1455   0.368581        -0.773012     -0.447770  \n",
       "1456   1.005418        -0.046041     -0.828163  \n",
       "1457  -0.268257        -0.918406     -0.257573  \n",
       "1458  -0.268257        -0.433759      0.236938  \n",
       "1459   0.368581         0.971717     -0.181494  \n",
       "\n",
       "[1460 rows x 77 columns]"
      ]
     },
     "metadata": {},
     "output_type": "display_data"
    },
    {
     "name": "stdout",
     "output_type": "stream",
     "text": [
      "test\n"
     ]
    },
    {
     "data": {
      "text/html": [
       "<div>\n",
       "<style scoped>\n",
       "    .dataframe tbody tr th:only-of-type {\n",
       "        vertical-align: middle;\n",
       "    }\n",
       "\n",
       "    .dataframe tbody tr th {\n",
       "        vertical-align: top;\n",
       "    }\n",
       "\n",
       "    .dataframe thead th {\n",
       "        text-align: right;\n",
       "    }\n",
       "</style>\n",
       "<table border=\"1\" class=\"dataframe\">\n",
       "  <thead>\n",
       "    <tr style=\"text-align: right;\">\n",
       "      <th></th>\n",
       "      <th>MSZoning</th>\n",
       "      <th>Street</th>\n",
       "      <th>LotShape</th>\n",
       "      <th>LandContour</th>\n",
       "      <th>Utilities</th>\n",
       "      <th>LotConfig</th>\n",
       "      <th>LandSlope</th>\n",
       "      <th>Neighborhood</th>\n",
       "      <th>Condition1</th>\n",
       "      <th>Condition2</th>\n",
       "      <th>...</th>\n",
       "      <th>3SsnPorch</th>\n",
       "      <th>ScreenPorch</th>\n",
       "      <th>PoolArea</th>\n",
       "      <th>MoSold</th>\n",
       "      <th>YrSold</th>\n",
       "      <th>TotalSqureF</th>\n",
       "      <th>AgeOfHouse</th>\n",
       "      <th>TotalBath</th>\n",
       "      <th>AgeOfRenovation</th>\n",
       "      <th>TotalPorchSF</th>\n",
       "    </tr>\n",
       "  </thead>\n",
       "  <tbody>\n",
       "    <tr>\n",
       "      <th>0</th>\n",
       "      <td>2.0</td>\n",
       "      <td>1.0</td>\n",
       "      <td>3.0</td>\n",
       "      <td>3.0</td>\n",
       "      <td>0.0</td>\n",
       "      <td>4.0</td>\n",
       "      <td>0.0</td>\n",
       "      <td>12.0</td>\n",
       "      <td>1.0</td>\n",
       "      <td>2.0</td>\n",
       "      <td>...</td>\n",
       "      <td>-0.088827</td>\n",
       "      <td>1.818960</td>\n",
       "      <td>-0.057227</td>\n",
       "      <td>-0.038281</td>\n",
       "      <td>1.713905</td>\n",
       "      <td>-0.530168</td>\n",
       "      <td>0.413784</td>\n",
       "      <td>-1.474995</td>\n",
       "      <td>1.178391</td>\n",
       "      <td>0.258664</td>\n",
       "    </tr>\n",
       "    <tr>\n",
       "      <th>1</th>\n",
       "      <td>3.0</td>\n",
       "      <td>1.0</td>\n",
       "      <td>0.0</td>\n",
       "      <td>3.0</td>\n",
       "      <td>0.0</td>\n",
       "      <td>0.0</td>\n",
       "      <td>0.0</td>\n",
       "      <td>12.0</td>\n",
       "      <td>2.0</td>\n",
       "      <td>2.0</td>\n",
       "      <td>...</td>\n",
       "      <td>-0.088827</td>\n",
       "      <td>-0.301543</td>\n",
       "      <td>-0.057227</td>\n",
       "      <td>-0.038281</td>\n",
       "      <td>1.713905</td>\n",
       "      <td>-0.033729</td>\n",
       "      <td>0.512398</td>\n",
       "      <td>-0.873851</td>\n",
       "      <td>1.320405</td>\n",
       "      <td>-0.501474</td>\n",
       "    </tr>\n",
       "    <tr>\n",
       "      <th>2</th>\n",
       "      <td>3.0</td>\n",
       "      <td>1.0</td>\n",
       "      <td>0.0</td>\n",
       "      <td>3.0</td>\n",
       "      <td>0.0</td>\n",
       "      <td>4.0</td>\n",
       "      <td>0.0</td>\n",
       "      <td>8.0</td>\n",
       "      <td>2.0</td>\n",
       "      <td>2.0</td>\n",
       "      <td>...</td>\n",
       "      <td>-0.088827</td>\n",
       "      <td>-0.301543</td>\n",
       "      <td>-0.057227</td>\n",
       "      <td>-1.140614</td>\n",
       "      <td>1.713905</td>\n",
       "      <td>0.040414</td>\n",
       "      <td>-0.769577</td>\n",
       "      <td>0.328438</td>\n",
       "      <td>-0.573119</td>\n",
       "      <td>-0.519573</td>\n",
       "    </tr>\n",
       "    <tr>\n",
       "      <th>3</th>\n",
       "      <td>3.0</td>\n",
       "      <td>1.0</td>\n",
       "      <td>0.0</td>\n",
       "      <td>3.0</td>\n",
       "      <td>0.0</td>\n",
       "      <td>4.0</td>\n",
       "      <td>0.0</td>\n",
       "      <td>8.0</td>\n",
       "      <td>2.0</td>\n",
       "      <td>2.0</td>\n",
       "      <td>...</td>\n",
       "      <td>-0.088827</td>\n",
       "      <td>-0.301543</td>\n",
       "      <td>-0.057227</td>\n",
       "      <td>-0.038281</td>\n",
       "      <td>1.713905</td>\n",
       "      <td>-0.001493</td>\n",
       "      <td>-0.802448</td>\n",
       "      <td>0.328438</td>\n",
       "      <td>-0.573119</td>\n",
       "      <td>-0.501474</td>\n",
       "    </tr>\n",
       "    <tr>\n",
       "      <th>4</th>\n",
       "      <td>3.0</td>\n",
       "      <td>1.0</td>\n",
       "      <td>0.0</td>\n",
       "      <td>1.0</td>\n",
       "      <td>0.0</td>\n",
       "      <td>4.0</td>\n",
       "      <td>0.0</td>\n",
       "      <td>22.0</td>\n",
       "      <td>2.0</td>\n",
       "      <td>2.0</td>\n",
       "      <td>...</td>\n",
       "      <td>-0.088827</td>\n",
       "      <td>2.243060</td>\n",
       "      <td>-0.057227</td>\n",
       "      <td>-1.875504</td>\n",
       "      <td>1.713905</td>\n",
       "      <td>0.069427</td>\n",
       "      <td>-0.605221</td>\n",
       "      <td>-0.272706</td>\n",
       "      <td>-0.289090</td>\n",
       "      <td>1.217885</td>\n",
       "    </tr>\n",
       "    <tr>\n",
       "      <th>...</th>\n",
       "      <td>...</td>\n",
       "      <td>...</td>\n",
       "      <td>...</td>\n",
       "      <td>...</td>\n",
       "      <td>...</td>\n",
       "      <td>...</td>\n",
       "      <td>...</td>\n",
       "      <td>...</td>\n",
       "      <td>...</td>\n",
       "      <td>...</td>\n",
       "      <td>...</td>\n",
       "      <td>...</td>\n",
       "      <td>...</td>\n",
       "      <td>...</td>\n",
       "      <td>...</td>\n",
       "      <td>...</td>\n",
       "      <td>...</td>\n",
       "      <td>...</td>\n",
       "      <td>...</td>\n",
       "      <td>...</td>\n",
       "      <td>...</td>\n",
       "    </tr>\n",
       "    <tr>\n",
       "      <th>1454</th>\n",
       "      <td>4.0</td>\n",
       "      <td>1.0</td>\n",
       "      <td>3.0</td>\n",
       "      <td>3.0</td>\n",
       "      <td>0.0</td>\n",
       "      <td>4.0</td>\n",
       "      <td>0.0</td>\n",
       "      <td>10.0</td>\n",
       "      <td>2.0</td>\n",
       "      <td>2.0</td>\n",
       "      <td>...</td>\n",
       "      <td>-0.088827</td>\n",
       "      <td>-0.301543</td>\n",
       "      <td>-0.057227</td>\n",
       "      <td>-0.038281</td>\n",
       "      <td>-1.359958</td>\n",
       "      <td>-1.465022</td>\n",
       "      <td>-0.013540</td>\n",
       "      <td>-0.873851</td>\n",
       "      <td>0.562996</td>\n",
       "      <td>-0.827248</td>\n",
       "    </tr>\n",
       "    <tr>\n",
       "      <th>1455</th>\n",
       "      <td>4.0</td>\n",
       "      <td>1.0</td>\n",
       "      <td>3.0</td>\n",
       "      <td>3.0</td>\n",
       "      <td>0.0</td>\n",
       "      <td>4.0</td>\n",
       "      <td>0.0</td>\n",
       "      <td>10.0</td>\n",
       "      <td>2.0</td>\n",
       "      <td>2.0</td>\n",
       "      <td>...</td>\n",
       "      <td>-0.088827</td>\n",
       "      <td>-0.301543</td>\n",
       "      <td>-0.057227</td>\n",
       "      <td>-0.773170</td>\n",
       "      <td>-1.359958</td>\n",
       "      <td>-1.157702</td>\n",
       "      <td>-0.013540</td>\n",
       "      <td>-0.873851</td>\n",
       "      <td>0.562996</td>\n",
       "      <td>-0.610065</td>\n",
       "    </tr>\n",
       "    <tr>\n",
       "      <th>1456</th>\n",
       "      <td>3.0</td>\n",
       "      <td>1.0</td>\n",
       "      <td>3.0</td>\n",
       "      <td>3.0</td>\n",
       "      <td>0.0</td>\n",
       "      <td>4.0</td>\n",
       "      <td>0.0</td>\n",
       "      <td>11.0</td>\n",
       "      <td>2.0</td>\n",
       "      <td>2.0</td>\n",
       "      <td>...</td>\n",
       "      <td>-0.088827</td>\n",
       "      <td>-0.301543</td>\n",
       "      <td>-0.057227</td>\n",
       "      <td>1.064053</td>\n",
       "      <td>-1.359958</td>\n",
       "      <td>0.024296</td>\n",
       "      <td>0.315171</td>\n",
       "      <td>-0.272706</td>\n",
       "      <td>-0.667795</td>\n",
       "      <td>-0.827248</td>\n",
       "    </tr>\n",
       "    <tr>\n",
       "      <th>1457</th>\n",
       "      <td>3.0</td>\n",
       "      <td>1.0</td>\n",
       "      <td>3.0</td>\n",
       "      <td>3.0</td>\n",
       "      <td>0.0</td>\n",
       "      <td>4.0</td>\n",
       "      <td>0.0</td>\n",
       "      <td>11.0</td>\n",
       "      <td>2.0</td>\n",
       "      <td>2.0</td>\n",
       "      <td>...</td>\n",
       "      <td>-0.088827</td>\n",
       "      <td>-0.301543</td>\n",
       "      <td>-0.057227</td>\n",
       "      <td>0.329164</td>\n",
       "      <td>-1.359958</td>\n",
       "      <td>-1.202833</td>\n",
       "      <td>-0.736706</td>\n",
       "      <td>-0.873851</td>\n",
       "      <td>-0.478442</td>\n",
       "      <td>-0.537671</td>\n",
       "    </tr>\n",
       "    <tr>\n",
       "      <th>1458</th>\n",
       "      <td>3.0</td>\n",
       "      <td>1.0</td>\n",
       "      <td>3.0</td>\n",
       "      <td>3.0</td>\n",
       "      <td>0.0</td>\n",
       "      <td>4.0</td>\n",
       "      <td>1.0</td>\n",
       "      <td>11.0</td>\n",
       "      <td>2.0</td>\n",
       "      <td>2.0</td>\n",
       "      <td>...</td>\n",
       "      <td>-0.088827</td>\n",
       "      <td>-0.301543</td>\n",
       "      <td>-0.057227</td>\n",
       "      <td>1.798942</td>\n",
       "      <td>-1.359958</td>\n",
       "      <td>0.692663</td>\n",
       "      <td>-0.769577</td>\n",
       "      <td>0.328438</td>\n",
       "      <td>-0.573119</td>\n",
       "      <td>-0.392883</td>\n",
       "    </tr>\n",
       "  </tbody>\n",
       "</table>\n",
       "<p>1459 rows × 77 columns</p>\n",
       "</div>"
      ],
      "text/plain": [
       "      MSZoning  Street  LotShape  LandContour  Utilities  LotConfig  \\\n",
       "0          2.0     1.0       3.0          3.0        0.0        4.0   \n",
       "1          3.0     1.0       0.0          3.0        0.0        0.0   \n",
       "2          3.0     1.0       0.0          3.0        0.0        4.0   \n",
       "3          3.0     1.0       0.0          3.0        0.0        4.0   \n",
       "4          3.0     1.0       0.0          1.0        0.0        4.0   \n",
       "...        ...     ...       ...          ...        ...        ...   \n",
       "1454       4.0     1.0       3.0          3.0        0.0        4.0   \n",
       "1455       4.0     1.0       3.0          3.0        0.0        4.0   \n",
       "1456       3.0     1.0       3.0          3.0        0.0        4.0   \n",
       "1457       3.0     1.0       3.0          3.0        0.0        4.0   \n",
       "1458       3.0     1.0       3.0          3.0        0.0        4.0   \n",
       "\n",
       "      LandSlope  Neighborhood  Condition1  Condition2  ...  3SsnPorch  \\\n",
       "0           0.0          12.0         1.0         2.0  ...  -0.088827   \n",
       "1           0.0          12.0         2.0         2.0  ...  -0.088827   \n",
       "2           0.0           8.0         2.0         2.0  ...  -0.088827   \n",
       "3           0.0           8.0         2.0         2.0  ...  -0.088827   \n",
       "4           0.0          22.0         2.0         2.0  ...  -0.088827   \n",
       "...         ...           ...         ...         ...  ...        ...   \n",
       "1454        0.0          10.0         2.0         2.0  ...  -0.088827   \n",
       "1455        0.0          10.0         2.0         2.0  ...  -0.088827   \n",
       "1456        0.0          11.0         2.0         2.0  ...  -0.088827   \n",
       "1457        0.0          11.0         2.0         2.0  ...  -0.088827   \n",
       "1458        1.0          11.0         2.0         2.0  ...  -0.088827   \n",
       "\n",
       "      ScreenPorch  PoolArea    MoSold    YrSold  TotalSqureF  AgeOfHouse  \\\n",
       "0        1.818960 -0.057227 -0.038281  1.713905    -0.530168    0.413784   \n",
       "1       -0.301543 -0.057227 -0.038281  1.713905    -0.033729    0.512398   \n",
       "2       -0.301543 -0.057227 -1.140614  1.713905     0.040414   -0.769577   \n",
       "3       -0.301543 -0.057227 -0.038281  1.713905    -0.001493   -0.802448   \n",
       "4        2.243060 -0.057227 -1.875504  1.713905     0.069427   -0.605221   \n",
       "...           ...       ...       ...       ...          ...         ...   \n",
       "1454    -0.301543 -0.057227 -0.038281 -1.359958    -1.465022   -0.013540   \n",
       "1455    -0.301543 -0.057227 -0.773170 -1.359958    -1.157702   -0.013540   \n",
       "1456    -0.301543 -0.057227  1.064053 -1.359958     0.024296    0.315171   \n",
       "1457    -0.301543 -0.057227  0.329164 -1.359958    -1.202833   -0.736706   \n",
       "1458    -0.301543 -0.057227  1.798942 -1.359958     0.692663   -0.769577   \n",
       "\n",
       "      TotalBath  AgeOfRenovation  TotalPorchSF  \n",
       "0     -1.474995         1.178391      0.258664  \n",
       "1     -0.873851         1.320405     -0.501474  \n",
       "2      0.328438        -0.573119     -0.519573  \n",
       "3      0.328438        -0.573119     -0.501474  \n",
       "4     -0.272706        -0.289090      1.217885  \n",
       "...         ...              ...           ...  \n",
       "1454  -0.873851         0.562996     -0.827248  \n",
       "1455  -0.873851         0.562996     -0.610065  \n",
       "1456  -0.272706        -0.667795     -0.827248  \n",
       "1457  -0.873851        -0.478442     -0.537671  \n",
       "1458   0.328438        -0.573119     -0.392883  \n",
       "\n",
       "[1459 rows x 77 columns]"
      ]
     },
     "metadata": {},
     "output_type": "display_data"
    }
   ],
   "source": [
    "X = X_enc_part2\n",
    "t = t_part2\n",
    "\n",
    "X_test = test_X_enc_part2\n",
    "\n",
    "print(\"X\")\n",
    "display(X)\n",
    "print(\"test\")\n",
    "display(X_test )"
   ]
  },
  {
   "cell_type": "code",
   "execution_count": 75,
   "metadata": {},
   "outputs": [
    {
     "name": "stdout",
     "output_type": "stream",
     "text": [
      "features:  ['Street', 'LotShape', 'LandContour', 'LandSlope', 'Neighborhood', 'Condition2', 'BldgType', 'HouseStyle', 'RoofStyle', 'RoofMatl', 'Exterior1st', 'ExterQual', 'BsmtQual', 'BsmtExposure', 'BsmtFinType1', 'KitchenQual', 'Functional', 'FireplaceQu', 'SaleCondition', 'MSSubClass', 'LotFrontage', 'LotArea', 'OverallQual', 'OverallCond', 'YearBuilt', 'MasVnrArea', 'BsmtUnfSF', '1stFlrSF', '2ndFlrSF', 'GrLivArea', 'BsmtFullBath', 'FullBath', 'BedroomAbvGr', 'KitchenAbvGr', 'TotRmsAbvGrd', 'Fireplaces', 'GarageCars', 'GarageArea', 'WoodDeckSF', 'OpenPorchSF', 'ScreenPorch', 'TotalSqureF', 'AgeOfHouse', 'TotalBath', 'TotalPorchSF']\n"
     ]
    }
   ],
   "source": [
    "best_features = feature_selec(X, t , 45)"
   ]
  },
  {
   "cell_type": "code",
   "execution_count": 76,
   "metadata": {},
   "outputs": [],
   "source": [
    "X_selected = X[best_features]\n",
    "\n",
    "X_test_selected = X_test[best_features]"
   ]
  },
  {
   "cell_type": "code",
   "execution_count": 77,
   "metadata": {},
   "outputs": [
    {
     "name": "stdout",
     "output_type": "stream",
     "text": [
      "Accuracy score for SGDRegressor:\n",
      "gs_model 0.7349535962938586\n",
      "best params {'alpha': 0.1, 'eta0': 0.001, 'learning_rate': 'constant', 'penalty': 'l2'}\n"
     ]
    }
   ],
   "source": [
    "# use grid search to get the best parameters\n",
    "from sklearn.model_selection import GridSearchCV, RepeatedKFold\n",
    "\n",
    "hyper_parameters = {'penalty': ('l2', 'l1', 'elasticnet'), 'alpha': [0.0001, 0.001, 0.01, 0.1], 'eta0': [0.001, 0.01, 0.1, 0.5],'learning_rate':['constant']}\n",
    "gs_model = GridSearchCV(SGDRegressor(random_state=42,max_iter=40000),hyper_parameters,cv=RepeatedKFold(n_splits=5, n_repeats=10, random_state=42)).fit(X_selected, t)\n",
    "print('Accuracy score for SGDRegressor:')\n",
    "print('gs_model', gs_model.best_score_)\n",
    "print('best params', gs_model.best_params_)"
   ]
  },
  {
   "cell_type": "markdown",
   "metadata": {},
   "source": [
    "## Principal component analysis (PCA)"
   ]
  },
  {
   "cell_type": "markdown",
   "metadata": {},
   "source": [
    "- We will use PCA to reduce the dimensionality of the dataset, improving model performance by focusing on the most relevant features."
   ]
  },
  {
   "cell_type": "code",
   "execution_count": 78,
   "metadata": {},
   "outputs": [],
   "source": [
    "import numpy as np\n",
    "from sklearn.pipeline import Pipeline\n",
    "from sklearn.decomposition import PCA\n",
    "from sklearn.linear_model import SGDRegressor\n",
    "from sklearn.model_selection import GridSearchCV\n",
    "\n",
    "def perform_pca_sgd_regression(X, t):\n",
    "    \"\"\"\n",
    "    Perform PCA followed by SGD Regression using Grid Search to find the best hyperparameters.\n",
    "    \n",
    "    Parameters:\n",
    "    X (array-like): Feature matrix for regression.\n",
    "    t (array-like): Target values for regression.\n",
    "\n",
    "    Returns:\n",
    "    dict: A dictionary containing the best R2 score and best hyperparameters.\n",
    "    \"\"\"\n",
    "    \n",
    "    # Convert selected features to a numpy array\n",
    "    arr_X = np.asarray(X)\n",
    "    \n",
    "    # Define a pipeline with a PCA step and an SGD Regressor step\n",
    "    model_pipe = Pipeline([\n",
    "        ('pca', 'passthrough'),  # Placeholder for PCA, to be defined in GridSearchCV\n",
    "        ('sgd', SGDRegressor(random_state=42, max_iter=40000))  # SGD Regressor with default params\n",
    "    ])\n",
    "\n",
    "    # Define hyperparameters for grid search\n",
    "    hyper_parameters = {\n",
    "        'pca': [PCA()],  # PCA step\n",
    "        'pca__n_components': list(range(1, 20)),  # Number of components for PCA\n",
    "        'sgd__alpha': [0.0001, 0.001, 0.01, 0.1],  # Regularization term for SGD\n",
    "        'sgd__penalty': ['l2', 'l1', 'elasticnet']  # Penalty type for SGD\n",
    "    }\n",
    "\n",
    "    # Perform grid search to find the best PCA components and corresponding SGD regression\n",
    "    gs_pca_sgd_model = GridSearchCV(model_pipe, hyper_parameters, scoring='r2').fit(arr_X, t)\n",
    "    \n",
    "    # Extract the best R2 score and best hyperparameters\n",
    "    best_score = gs_pca_sgd_model.best_score_\n",
    "    best_params = gs_pca_sgd_model.best_params_\n",
    "    \n",
    "    # Print the results\n",
    "    print('R2 score for regression:')\n",
    "    print('gs_pca_sgd_model', best_score)\n",
    "    print('best params', best_params)\n",
    "    \n",
    "    # Return the results as a dictionary\n",
    "    return {\"model\": gs_pca_sgd_model,'best_score': best_score, 'best_params': best_params}\n"
   ]
  },
  {
   "cell_type": "code",
   "execution_count": 79,
   "metadata": {},
   "outputs": [
    {
     "name": "stdout",
     "output_type": "stream",
     "text": [
      "R2 score for regression:\n",
      "gs_pca_sgd_model 0.8079246996927889\n",
      "best params {'pca': PCA(), 'pca__n_components': 19, 'sgd__alpha': 0.001, 'sgd__penalty': 'l2'}\n"
     ]
    }
   ],
   "source": [
    "results = perform_pca_sgd_regression(X_selected, t)\n",
    "\n",
    "gs_pca_sgd_model = results['model']\n"
   ]
  },
  {
   "cell_type": "markdown",
   "metadata": {},
   "source": [
    "## Ensembles"
   ]
  },
  {
   "cell_type": "markdown",
   "metadata": {},
   "source": [
    "### Bagging"
   ]
  },
  {
   "cell_type": "code",
   "execution_count": 80,
   "metadata": {},
   "outputs": [
    {
     "name": "stdout",
     "output_type": "stream",
     "text": [
      "R2 score for regressor:\n",
      "bag_fold_model 0.8158349072071964\n"
     ]
    }
   ],
   "source": [
    "# get score with nfold bagging\n",
    "from sklearn.ensemble import BaggingRegressor\n",
    "\n",
    "bag_fold_model = BaggingRegressor(estimator=SGDRegressor(**gs_model.best_params_, random_state=42, max_iter=40000),\n",
    "                                   n_estimators=20, random_state=42,\n",
    "                                   bootstrap=False).fit(X_selected, t)\n",
    "\n",
    "print('R2 score for regressor:')\n",
    "print('bag_fold_model', bag_fold_model.score(X_selected, t).mean())"
   ]
  },
  {
   "cell_type": "code",
   "execution_count": 81,
   "metadata": {},
   "outputs": [
    {
     "name": "stderr",
     "output_type": "stream",
     "text": [
      "Calculating Length          | 5/? [00:00<00:00, 2497.20it/s]\n",
      "Computing Models: 100%|██████████| 5/5 [00:00<00:00,  5.29it/s]\n"
     ]
    },
    {
     "data": {
      "image/png": "[encoded data removed]",
      "text/plain": [
       "<Figure size 1400x600 with 1 Axes>"
      ]
     },
     "metadata": {},
     "output_type": "display_data"
    },
    {
     "data": {
      "image/png": "[encoded data removed]",
      "text/plain": [
       "<Figure size 1400x600 with 1 Axes>"
      ]
     },
     "metadata": {},
     "output_type": "display_data"
    },
    {
     "name": "stdout",
     "output_type": "stream",
     "text": [
      "mean cv val score: 0.76\n",
      "mean cv val loss 1472558289.15\n",
      "mean cv train score: 0.82\n",
      "mean cv train loss 1157431748.85\n"
     ]
    }
   ],
   "source": [
    "show_model_result(X_selected, bag_fold_model)"
   ]
  },
  {
   "cell_type": "markdown",
   "metadata": {},
   "source": [
    "### Bootstrap Bagging\n"
   ]
  },
  {
   "cell_type": "code",
   "execution_count": 82,
   "metadata": {},
   "outputs": [
    {
     "name": "stdout",
     "output_type": "stream",
     "text": [
      "R2 score for regressor:\n",
      "bag_boot_model 0.8040551878894893\n"
     ]
    }
   ],
   "source": [
    "# get score with bootstrap bagging\n",
    "bag_boot_model = BaggingRegressor(estimator=SGDRegressor(**gs_model.best_params_, random_state=42, max_iter=40000),\n",
    "                                   n_estimators=20, random_state=42,\n",
    "                                   bootstrap=True).fit(X_selected, t)\n",
    "\n",
    "print('R2 score for regressor:')\n",
    "print('bag_boot_model', bag_boot_model.score(X_selected, t).mean())"
   ]
  },
  {
   "cell_type": "code",
   "execution_count": 83,
   "metadata": {},
   "outputs": [
    {
     "name": "stderr",
     "output_type": "stream",
     "text": [
      "Calculating Length          | 5/? [00:00<00:00, 2505.56it/s]\n",
      "Computing Models: 100%|██████████| 5/5 [00:00<00:00,  6.65it/s]\n"
     ]
    },
    {
     "data": {
      "image/png": "[encoded data removed]",
      "text/plain": [
       "<Figure size 1400x600 with 1 Axes>"
      ]
     },
     "metadata": {},
     "output_type": "display_data"
    },
    {
     "data": {
      "image/png": "[encoded data removed]",
      "text/plain": [
       "<Figure size 1400x600 with 1 Axes>"
      ]
     },
     "metadata": {},
     "output_type": "display_data"
    },
    {
     "name": "stdout",
     "output_type": "stream",
     "text": [
      "mean cv val score: 0.76\n",
      "mean cv val loss 1441314752.19\n",
      "mean cv train score: 0.81\n",
      "mean cv train loss 1185743706.09\n"
     ]
    }
   ],
   "source": [
    "show_model_result(X_selected, bag_boot_model)"
   ]
  },
  {
   "cell_type": "markdown",
   "metadata": {},
   "source": [
    "### Boosting"
   ]
  },
  {
   "cell_type": "code",
   "execution_count": 84,
   "metadata": {},
   "outputs": [
    {
     "name": "stdout",
     "output_type": "stream",
     "text": [
      "R2 score for regressor:\n",
      "ada_boost_model 0.8961443662887085\n"
     ]
    }
   ],
   "source": [
    "# get score with ada boosting\n",
    "from sklearn.ensemble import AdaBoostRegressor\n",
    "\n",
    "ada_boost_model = AdaBoostRegressor(n_estimators=100, random_state=42).fit(X_selected, t)\n",
    "\n",
    "print('R2 score for regressor:')\n",
    "print('ada_boost_model', ada_boost_model.score(X_selected, t).mean())"
   ]
  },
  {
   "cell_type": "code",
   "execution_count": 85,
   "metadata": {},
   "outputs": [
    {
     "name": "stderr",
     "output_type": "stream",
     "text": [
      "Calculating Length          | 5/? [00:00<00:00, 2501.08it/s]\n",
      "Computing Models: 100%|██████████| 5/5 [00:04<00:00,  1.10it/s]\n"
     ]
    },
    {
     "data": {
      "image/png": "[encoded data removed]",
      "text/plain": [
       "<Figure size 1400x600 with 1 Axes>"
      ]
     },
     "metadata": {},
     "output_type": "display_data"
    },
    {
     "data": {
      "image/png": "[encoded data removed]",
      "text/plain": [
       "<Figure size 1400x600 with 1 Axes>"
      ]
     },
     "metadata": {},
     "output_type": "display_data"
    },
    {
     "name": "stdout",
     "output_type": "stream",
     "text": [
      "mean cv val score: 0.79\n",
      "mean cv val loss 1279604294.42\n",
      "mean cv train score: 0.90\n",
      "mean cv train loss 650901621.20\n"
     ]
    }
   ],
   "source": [
    "show_model_result(X_selected, ada_boost_model)"
   ]
  },
  {
   "cell_type": "markdown",
   "metadata": {},
   "source": [
    "## Regression Algorithms"
   ]
  },
  {
   "cell_type": "markdown",
   "metadata": {},
   "source": [
    "###  Locally Weighted Linear Regression (LWLR)"
   ]
  },
  {
   "cell_type": "code",
   "execution_count": 86,
   "metadata": {},
   "outputs": [
    {
     "name": "stderr",
     "output_type": "stream",
     "text": [
      "fatal: destination path 'CourseExercises' already exists and is not an empty directory.\n"
     ]
    }
   ],
   "source": [
    "# clone the lwlr repo from github\n",
    "!git clone https://github.com/qiaochen/CourseExercises\n"
   ]
  },
  {
   "cell_type": "code",
   "execution_count": 87,
   "metadata": {},
   "outputs": [
    {
     "name": "stdout",
     "output_type": "stream",
     "text": [
      "R2 score for regression:\n",
      "gs_lw_model 0.8546056639772852\n",
      "best params {'k': 9}\n"
     ]
    }
   ],
   "source": [
    "from CourseExercises.lwlr import LWLR\n",
    "from sklearn.metrics import make_scorer, accuracy_score\n",
    "\n",
    "# get best k for lwlr (show the calculation of this sell)\n",
    "hyper_parameters = {'k': list(range(1, 10))}\n",
    "arr_X= np.asarray(X_selected)\n",
    "\n",
    "gs_lw_model = GridSearchCV(LWLR(k=1), hyper_parameters, \n",
    "                           scoring='r2').fit(arr_X, t)\n",
    "\n",
    "print('R2 score for regression:')\n",
    "print('gs_lw_model', gs_lw_model.best_score_)\n",
    "print('best params', gs_lw_model.best_params_)\n",
    "\n",
    "gs_lw_best_score = gs_lw_model.best_score_\n",
    "\n"
   ]
  },
  {
   "cell_type": "markdown",
   "metadata": {},
   "source": [
    "### k-Nearest Neighbors (KNN)"
   ]
  },
  {
   "cell_type": "code",
   "execution_count": 88,
   "metadata": {},
   "outputs": [
    {
     "name": "stdout",
     "output_type": "stream",
     "text": [
      "R2 score for regression:\n",
      "gs_neigh_model 0.776240676789112\n",
      "best params {'n_neighbors': 4}\n"
     ]
    }
   ],
   "source": [
    "# run KNN on the dataset and find best K by R2 and accuracy\n",
    "from sklearn.neighbors import KNeighborsRegressor\n",
    "hyper_parameters = {'n_neighbors': list(range(1, 20))}\n",
    "\n",
    "gs_neigh_model = GridSearchCV(KNeighborsRegressor(n_neighbors=5, weights='distance'), hyper_parameters).fit(X_selected, t)\n",
    "\n",
    "print('R2 score for regression:')\n",
    "print('gs_neigh_model', gs_neigh_model.best_score_)\n",
    "print('best params', gs_neigh_model.best_params_)\n"
   ]
  },
  {
   "cell_type": "markdown",
   "metadata": {},
   "source": [
    "### Decision Trees\n"
   ]
  },
  {
   "cell_type": "code",
   "execution_count": 89,
   "metadata": {},
   "outputs": [
    {
     "name": "stdout",
     "output_type": "stream",
     "text": [
      "R2 score for regression:\n",
      "gs_tree_model: 0.7819650097934352\n",
      "Best parameters: {'max_depth': 11, 'min_samples_leaf': 12, 'min_samples_split': 2}\n"
     ]
    }
   ],
   "source": [
    "# run decision tree on the dataset and find best hyperparameters\n",
    "from sklearn.tree import DecisionTreeRegressor\n",
    "\n",
    "# Define hyperparameters for tuning\n",
    "hyper_parameters = {'max_depth': list(range(1, 20)),\n",
    "                    'min_samples_split': [2, 5, 10, 15, 20],\n",
    "                    'min_samples_leaf': [1, 2, 4, 8, 12]}\n",
    "\n",
    "# Initialize and fit the GridSearchCV with DecisionTreeRegressor\n",
    "gs_tree_model = GridSearchCV(DecisionTreeRegressor(random_state=42), \n",
    "                             hyper_parameters).fit(X_selected, t)\n",
    "\n",
    "# Print the results\n",
    "print('R2 score for regression:')\n",
    "print('gs_tree_model:', gs_tree_model.best_score_)\n",
    "print('Best parameters:', gs_tree_model.best_params_)"
   ]
  },
  {
   "cell_type": "markdown",
   "metadata": {},
   "source": [
    "### Support Vector Machines (SVM)"
   ]
  },
  {
   "cell_type": "code",
   "execution_count": 90,
   "metadata": {},
   "outputs": [
    {
     "name": "stdout",
     "output_type": "stream",
     "text": [
      "R2 score for regression:\n",
      "gs_svm_model: 0.8297576623412043\n",
      "Best parameters: {'C': 100, 'gamma': 'auto', 'kernel': 'poly'}\n"
     ]
    }
   ],
   "source": [
    "from sklearn.svm import SVR\n",
    "\n",
    "# Define hyperparameters for tuning\n",
    "param_grid = {'kernel': ['linear', 'poly', 'rbf', 'sigmoid'],\n",
    "              'C': [0.1, 1, 10, 100],\n",
    "              'gamma': ['scale', 'auto']}\n",
    "# Initialize and fit the GridSearchCV with SVM (SVR)\n",
    "gs_svm_model = GridSearchCV(SVR(),param_grid).fit(X_selected, t)\n",
    "\n",
    "# Print the results\n",
    "print('R2 score for regression:')\n",
    "print('gs_svm_model:', gs_svm_model.best_score_)\n",
    "print('Best parameters:', gs_svm_model.best_params_)\n"
   ]
  },
  {
   "cell_type": "code",
   "execution_count": 91,
   "metadata": {},
   "outputs": [
    {
     "data": {
      "image/png": "[encoded data removed]",
      "text/plain": [
       "<Figure size 1200x600 with 1 Axes>"
      ]
     },
     "metadata": {},
     "output_type": "display_data"
    }
   ],
   "source": [
    "# show a barplot of the 4 models scores\n",
    "models = ['lwlr', 'KNN', 'Decision Tree', 'SVM']\n",
    "scores = [gs_lw_model.best_score_, gs_neigh_model.best_score_, gs_tree_model.best_score_, gs_svm_model.best_score_]\n",
    "\n",
    "plt.figure(figsize=(12, 6))\n",
    "sns.barplot(x=models, y=scores)\n",
    "plt.title('Model Scores')\n",
    "plt.ylabel('Score')\n",
    "plt.xlabel('Model')\n",
    "plt.show()"
   ]
  },
  {
   "cell_type": "markdown",
   "metadata": {},
   "source": [
    "- We can see that the best model is LWLR with the best R2 score"
   ]
  },
  {
   "cell_type": "markdown",
   "metadata": {},
   "source": [
    "### Voting Regressor"
   ]
  },
  {
   "cell_type": "code",
   "execution_count": 92,
   "metadata": {},
   "outputs": [
    {
     "name": "stderr",
     "output_type": "stream",
     "text": [
      "C:\\Users\\user\\AppData\\Local\\Temp\\ipykernel_7448\\1097736079.py:47: FutureWarning: \n",
      "\n",
      "Passing `palette` without assigning `hue` is deprecated and will be removed in v0.14.0. Assign the `y` variable to `hue` and set `legend=False` for the same effect.\n",
      "\n",
      "  cv_plot = sns.barplot(x=\"CrossValMeans\", y=\"Algorithms\", data=cv_frame,\n"
     ]
    },
    {
     "ename": "ValueError",
     "evalue": "'xerr' (shape: (8,)) must be a scalar or a 1D or (2, n) array-like whose shape matches 'x' (shape: (1,))",
     "output_type": "error",
     "traceback": [
      "\u001b[1;31m---------------------------------------------------------------------------\u001b[0m",
      "\u001b[1;31mValueError\u001b[0m                                Traceback (most recent call last)",
      "Cell \u001b[1;32mIn[92], line 47\u001b[0m\n\u001b[0;32m     31\u001b[0m     cv_std\u001b[38;5;241m.\u001b[39mappend(cv_result\u001b[38;5;241m.\u001b[39mstd())  \u001b[38;5;66;03m# Taking square root to convert back to RMSE\u001b[39;00m\n\u001b[0;32m     33\u001b[0m cv_frame \u001b[38;5;241m=\u001b[39m pd\u001b[38;5;241m.\u001b[39mDataFrame(\n\u001b[0;32m     34\u001b[0m     {\n\u001b[0;32m     35\u001b[0m         \u001b[38;5;124m\"\u001b[39m\u001b[38;5;124mCrossValMeans\u001b[39m\u001b[38;5;124m\"\u001b[39m: cv_means,\n\u001b[1;32m   (...)\u001b[0m\n\u001b[0;32m     44\u001b[0m                      \u001b[38;5;124m\"\u001b[39m\u001b[38;5;124mBaggingRegressor\u001b[39m\u001b[38;5;124m\"\u001b[39m,]\n\u001b[0;32m     45\u001b[0m     })\n\u001b[1;32m---> 47\u001b[0m cv_plot \u001b[38;5;241m=\u001b[39m sns\u001b[38;5;241m.\u001b[39mbarplot(x\u001b[38;5;241m=\u001b[39m\u001b[38;5;124m\"\u001b[39m\u001b[38;5;124mCrossValMeans\u001b[39m\u001b[38;5;124m\"\u001b[39m, y\u001b[38;5;241m=\u001b[39m\u001b[38;5;124m\"\u001b[39m\u001b[38;5;124mAlgorithms\u001b[39m\u001b[38;5;124m\"\u001b[39m, data\u001b[38;5;241m=\u001b[39mcv_frame,\n\u001b[0;32m     48\u001b[0m                       palette\u001b[38;5;241m=\u001b[39m\u001b[38;5;124m\"\u001b[39m\u001b[38;5;124mhusl\u001b[39m\u001b[38;5;124m\"\u001b[39m, orient\u001b[38;5;241m=\u001b[39m\u001b[38;5;124m\"\u001b[39m\u001b[38;5;124mh\u001b[39m\u001b[38;5;124m\"\u001b[39m, \u001b[38;5;241m*\u001b[39m\u001b[38;5;241m*\u001b[39m{\u001b[38;5;124m'\u001b[39m\u001b[38;5;124mxerr\u001b[39m\u001b[38;5;124m'\u001b[39m: cv_std},\n\u001b[0;32m     49\u001b[0m                       order\u001b[38;5;241m=\u001b[39mcv_frame\u001b[38;5;241m.\u001b[39msort_values(\u001b[38;5;124m'\u001b[39m\u001b[38;5;124mCrossValMeans\u001b[39m\u001b[38;5;124m'\u001b[39m, ascending\u001b[38;5;241m=\u001b[39m\u001b[38;5;28;01mFalse\u001b[39;00m)\u001b[38;5;241m.\u001b[39mAlgorithms)\n\u001b[0;32m     51\u001b[0m cv_plot\u001b[38;5;241m.\u001b[39mset_xlabel(\u001b[38;5;124m\"\u001b[39m\u001b[38;5;124mMean Squared Error (MSE)\u001b[39m\u001b[38;5;124m\"\u001b[39m)\n\u001b[0;32m     52\u001b[0m cv_plot\u001b[38;5;241m.\u001b[39mset_title(\u001b[38;5;124m\"\u001b[39m\u001b[38;5;124mCV MSE Scores\u001b[39m\u001b[38;5;124m\"\u001b[39m)\n",
      "File \u001b[1;32md:\\softwere\\One Drive\\OneDrive - Afeka College Of Engineering\\Machine Learning\\House Prices\\house-prices_env\\lib\\site-packages\\seaborn\\categorical.py:2370\u001b[0m, in \u001b[0;36mbarplot\u001b[1;34m(data, x, y, hue, order, hue_order, estimator, errorbar, n_boot, seed, units, weights, orient, color, palette, saturation, fill, hue_norm, width, dodge, gap, log_scale, native_scale, formatter, legend, capsize, err_kws, ci, errcolor, errwidth, ax, **kwargs)\u001b[0m\n\u001b[0;32m   2368\u001b[0m saturation \u001b[38;5;241m=\u001b[39m saturation \u001b[38;5;28;01mif\u001b[39;00m fill \u001b[38;5;28;01melse\u001b[39;00m \u001b[38;5;241m1\u001b[39m\n\u001b[0;32m   2369\u001b[0m p\u001b[38;5;241m.\u001b[39mmap_hue(palette\u001b[38;5;241m=\u001b[39mpalette, order\u001b[38;5;241m=\u001b[39mhue_order, norm\u001b[38;5;241m=\u001b[39mhue_norm, saturation\u001b[38;5;241m=\u001b[39msaturation)\n\u001b[1;32m-> 2370\u001b[0m color \u001b[38;5;241m=\u001b[39m \u001b[43m_default_color\u001b[49m\u001b[43m(\u001b[49m\u001b[43max\u001b[49m\u001b[38;5;241;43m.\u001b[39;49m\u001b[43mbar\u001b[49m\u001b[43m,\u001b[49m\u001b[43m \u001b[49m\u001b[43mhue\u001b[49m\u001b[43m,\u001b[49m\u001b[43m \u001b[49m\u001b[43mcolor\u001b[49m\u001b[43m,\u001b[49m\u001b[43m \u001b[49m\u001b[43mkwargs\u001b[49m\u001b[43m,\u001b[49m\u001b[43m \u001b[49m\u001b[43msaturation\u001b[49m\u001b[38;5;241;43m=\u001b[39;49m\u001b[43msaturation\u001b[49m\u001b[43m)\u001b[49m\n\u001b[0;32m   2372\u001b[0m agg_cls \u001b[38;5;241m=\u001b[39m WeightedAggregator \u001b[38;5;28;01mif\u001b[39;00m \u001b[38;5;124m\"\u001b[39m\u001b[38;5;124mweight\u001b[39m\u001b[38;5;124m\"\u001b[39m \u001b[38;5;129;01min\u001b[39;00m p\u001b[38;5;241m.\u001b[39mplot_data \u001b[38;5;28;01melse\u001b[39;00m EstimateAggregator\n\u001b[0;32m   2373\u001b[0m aggregator \u001b[38;5;241m=\u001b[39m agg_cls(estimator, errorbar, n_boot\u001b[38;5;241m=\u001b[39mn_boot, seed\u001b[38;5;241m=\u001b[39mseed)\n",
      "File \u001b[1;32md:\\softwere\\One Drive\\OneDrive - Afeka College Of Engineering\\Machine Learning\\House Prices\\house-prices_env\\lib\\site-packages\\seaborn\\utils.py:127\u001b[0m, in \u001b[0;36m_default_color\u001b[1;34m(method, hue, color, kws, saturation)\u001b[0m\n\u001b[0;32m    122\u001b[0m     scout\u001b[38;5;241m.\u001b[39mremove()\n\u001b[0;32m    124\u001b[0m \u001b[38;5;28;01melif\u001b[39;00m method\u001b[38;5;241m.\u001b[39m\u001b[38;5;18m__name__\u001b[39m \u001b[38;5;241m==\u001b[39m \u001b[38;5;124m\"\u001b[39m\u001b[38;5;124mbar\u001b[39m\u001b[38;5;124m\"\u001b[39m:\n\u001b[0;32m    125\u001b[0m \n\u001b[0;32m    126\u001b[0m     \u001b[38;5;66;03m# bar() needs masked, not empty data, to generate a patch\u001b[39;00m\n\u001b[1;32m--> 127\u001b[0m     scout, \u001b[38;5;241m=\u001b[39m method([np\u001b[38;5;241m.\u001b[39mnan], [np\u001b[38;5;241m.\u001b[39mnan], \u001b[38;5;241m*\u001b[39m\u001b[38;5;241m*\u001b[39mkws)\n\u001b[0;32m    128\u001b[0m     color \u001b[38;5;241m=\u001b[39m to_rgb(scout\u001b[38;5;241m.\u001b[39mget_facecolor())\n\u001b[0;32m    129\u001b[0m     scout\u001b[38;5;241m.\u001b[39mremove()\n",
      "File \u001b[1;32md:\\softwere\\One Drive\\OneDrive - Afeka College Of Engineering\\Machine Learning\\House Prices\\house-prices_env\\lib\\site-packages\\matplotlib\\__init__.py:1492\u001b[0m, in \u001b[0;36m_preprocess_data.<locals>.inner\u001b[1;34m(ax, data, *args, **kwargs)\u001b[0m\n\u001b[0;32m   1489\u001b[0m \u001b[38;5;129m@functools\u001b[39m\u001b[38;5;241m.\u001b[39mwraps(func)\n\u001b[0;32m   1490\u001b[0m \u001b[38;5;28;01mdef\u001b[39;00m \u001b[38;5;21minner\u001b[39m(ax, \u001b[38;5;241m*\u001b[39margs, data\u001b[38;5;241m=\u001b[39m\u001b[38;5;28;01mNone\u001b[39;00m, \u001b[38;5;241m*\u001b[39m\u001b[38;5;241m*\u001b[39mkwargs):\n\u001b[0;32m   1491\u001b[0m     \u001b[38;5;28;01mif\u001b[39;00m data \u001b[38;5;129;01mis\u001b[39;00m \u001b[38;5;28;01mNone\u001b[39;00m:\n\u001b[1;32m-> 1492\u001b[0m         \u001b[38;5;28;01mreturn\u001b[39;00m func(ax, \u001b[38;5;241m*\u001b[39m\u001b[38;5;28mmap\u001b[39m(sanitize_sequence, args), \u001b[38;5;241m*\u001b[39m\u001b[38;5;241m*\u001b[39mkwargs)\n\u001b[0;32m   1494\u001b[0m     bound \u001b[38;5;241m=\u001b[39m new_sig\u001b[38;5;241m.\u001b[39mbind(ax, \u001b[38;5;241m*\u001b[39margs, \u001b[38;5;241m*\u001b[39m\u001b[38;5;241m*\u001b[39mkwargs)\n\u001b[0;32m   1495\u001b[0m     auto_label \u001b[38;5;241m=\u001b[39m (bound\u001b[38;5;241m.\u001b[39marguments\u001b[38;5;241m.\u001b[39mget(label_namer)\n\u001b[0;32m   1496\u001b[0m                   \u001b[38;5;129;01mor\u001b[39;00m bound\u001b[38;5;241m.\u001b[39mkwargs\u001b[38;5;241m.\u001b[39mget(label_namer))\n",
      "File \u001b[1;32md:\\softwere\\One Drive\\OneDrive - Afeka College Of Engineering\\Machine Learning\\House Prices\\house-prices_env\\lib\\site-packages\\matplotlib\\axes\\_axes.py:2550\u001b[0m, in \u001b[0;36mAxes.bar\u001b[1;34m(self, x, height, width, bottom, align, **kwargs)\u001b[0m\n\u001b[0;32m   2546\u001b[0m         ey \u001b[38;5;241m=\u001b[39m [b \u001b[38;5;241m+\u001b[39m \u001b[38;5;241m0.5\u001b[39m \u001b[38;5;241m*\u001b[39m h \u001b[38;5;28;01mfor\u001b[39;00m b, h \u001b[38;5;129;01min\u001b[39;00m \u001b[38;5;28mzip\u001b[39m(bottom, height)]\n\u001b[0;32m   2548\u001b[0m     error_kw\u001b[38;5;241m.\u001b[39msetdefault(\u001b[38;5;124m\"\u001b[39m\u001b[38;5;124mlabel\u001b[39m\u001b[38;5;124m\"\u001b[39m, \u001b[38;5;124m'\u001b[39m\u001b[38;5;124m_nolegend_\u001b[39m\u001b[38;5;124m'\u001b[39m)\n\u001b[1;32m-> 2550\u001b[0m     errorbar \u001b[38;5;241m=\u001b[39m \u001b[38;5;28mself\u001b[39m\u001b[38;5;241m.\u001b[39merrorbar(ex, ey,\n\u001b[0;32m   2551\u001b[0m                              yerr\u001b[38;5;241m=\u001b[39myerr, xerr\u001b[38;5;241m=\u001b[39mxerr,\n\u001b[0;32m   2552\u001b[0m                              fmt\u001b[38;5;241m=\u001b[39m\u001b[38;5;124m'\u001b[39m\u001b[38;5;124mnone\u001b[39m\u001b[38;5;124m'\u001b[39m, \u001b[38;5;241m*\u001b[39m\u001b[38;5;241m*\u001b[39merror_kw)\n\u001b[0;32m   2553\u001b[0m \u001b[38;5;28;01melse\u001b[39;00m:\n\u001b[0;32m   2554\u001b[0m     errorbar \u001b[38;5;241m=\u001b[39m \u001b[38;5;28;01mNone\u001b[39;00m\n",
      "File \u001b[1;32md:\\softwere\\One Drive\\OneDrive - Afeka College Of Engineering\\Machine Learning\\House Prices\\house-prices_env\\lib\\site-packages\\matplotlib\\__init__.py:1492\u001b[0m, in \u001b[0;36m_preprocess_data.<locals>.inner\u001b[1;34m(ax, data, *args, **kwargs)\u001b[0m\n\u001b[0;32m   1489\u001b[0m \u001b[38;5;129m@functools\u001b[39m\u001b[38;5;241m.\u001b[39mwraps(func)\n\u001b[0;32m   1490\u001b[0m \u001b[38;5;28;01mdef\u001b[39;00m \u001b[38;5;21minner\u001b[39m(ax, \u001b[38;5;241m*\u001b[39margs, data\u001b[38;5;241m=\u001b[39m\u001b[38;5;28;01mNone\u001b[39;00m, \u001b[38;5;241m*\u001b[39m\u001b[38;5;241m*\u001b[39mkwargs):\n\u001b[0;32m   1491\u001b[0m     \u001b[38;5;28;01mif\u001b[39;00m data \u001b[38;5;129;01mis\u001b[39;00m \u001b[38;5;28;01mNone\u001b[39;00m:\n\u001b[1;32m-> 1492\u001b[0m         \u001b[38;5;28;01mreturn\u001b[39;00m func(ax, \u001b[38;5;241m*\u001b[39m\u001b[38;5;28mmap\u001b[39m(sanitize_sequence, args), \u001b[38;5;241m*\u001b[39m\u001b[38;5;241m*\u001b[39mkwargs)\n\u001b[0;32m   1494\u001b[0m     bound \u001b[38;5;241m=\u001b[39m new_sig\u001b[38;5;241m.\u001b[39mbind(ax, \u001b[38;5;241m*\u001b[39margs, \u001b[38;5;241m*\u001b[39m\u001b[38;5;241m*\u001b[39mkwargs)\n\u001b[0;32m   1495\u001b[0m     auto_label \u001b[38;5;241m=\u001b[39m (bound\u001b[38;5;241m.\u001b[39marguments\u001b[38;5;241m.\u001b[39mget(label_namer)\n\u001b[0;32m   1496\u001b[0m                   \u001b[38;5;129;01mor\u001b[39;00m bound\u001b[38;5;241m.\u001b[39mkwargs\u001b[38;5;241m.\u001b[39mget(label_namer))\n",
      "File \u001b[1;32md:\\softwere\\One Drive\\OneDrive - Afeka College Of Engineering\\Machine Learning\\House Prices\\house-prices_env\\lib\\site-packages\\matplotlib\\axes\\_axes.py:3667\u001b[0m, in \u001b[0;36mAxes.errorbar\u001b[1;34m(self, x, y, yerr, xerr, fmt, ecolor, elinewidth, capsize, barsabove, lolims, uplims, xlolims, xuplims, errorevery, capthick, **kwargs)\u001b[0m\n\u001b[0;32m   3665\u001b[0m     np\u001b[38;5;241m.\u001b[39mbroadcast_to(err, (\u001b[38;5;241m2\u001b[39m, \u001b[38;5;28mlen\u001b[39m(dep)))\n\u001b[0;32m   3666\u001b[0m \u001b[38;5;28;01mexcept\u001b[39;00m \u001b[38;5;167;01mValueError\u001b[39;00m:\n\u001b[1;32m-> 3667\u001b[0m     \u001b[38;5;28;01mraise\u001b[39;00m \u001b[38;5;167;01mValueError\u001b[39;00m(\n\u001b[0;32m   3668\u001b[0m         \u001b[38;5;124mf\u001b[39m\u001b[38;5;124m\"\u001b[39m\u001b[38;5;124m'\u001b[39m\u001b[38;5;132;01m{\u001b[39;00mdep_axis\u001b[38;5;132;01m}\u001b[39;00m\u001b[38;5;124merr\u001b[39m\u001b[38;5;124m'\u001b[39m\u001b[38;5;124m (shape: \u001b[39m\u001b[38;5;132;01m{\u001b[39;00mnp\u001b[38;5;241m.\u001b[39mshape(err)\u001b[38;5;132;01m}\u001b[39;00m\u001b[38;5;124m) must be a \u001b[39m\u001b[38;5;124m\"\u001b[39m\n\u001b[0;32m   3669\u001b[0m         \u001b[38;5;124mf\u001b[39m\u001b[38;5;124m\"\u001b[39m\u001b[38;5;124mscalar or a 1D or (2, n) array-like whose shape matches \u001b[39m\u001b[38;5;124m\"\u001b[39m\n\u001b[0;32m   3670\u001b[0m         \u001b[38;5;124mf\u001b[39m\u001b[38;5;124m\"\u001b[39m\u001b[38;5;124m'\u001b[39m\u001b[38;5;132;01m{\u001b[39;00mdep_axis\u001b[38;5;132;01m}\u001b[39;00m\u001b[38;5;124m'\u001b[39m\u001b[38;5;124m (shape: \u001b[39m\u001b[38;5;132;01m{\u001b[39;00mnp\u001b[38;5;241m.\u001b[39mshape(dep)\u001b[38;5;132;01m}\u001b[39;00m\u001b[38;5;124m)\u001b[39m\u001b[38;5;124m\"\u001b[39m) \u001b[38;5;28;01mfrom\u001b[39;00m \u001b[38;5;28;01mNone\u001b[39;00m\n\u001b[0;32m   3671\u001b[0m res \u001b[38;5;241m=\u001b[39m np\u001b[38;5;241m.\u001b[39mzeros(err\u001b[38;5;241m.\u001b[39mshape, dtype\u001b[38;5;241m=\u001b[39m\u001b[38;5;28mbool\u001b[39m)  \u001b[38;5;66;03m# Default in case of nan\u001b[39;00m\n\u001b[0;32m   3672\u001b[0m \u001b[38;5;28;01mif\u001b[39;00m np\u001b[38;5;241m.\u001b[39many(np\u001b[38;5;241m.\u001b[39mless(err, \u001b[38;5;241m-\u001b[39merr, out\u001b[38;5;241m=\u001b[39mres, where\u001b[38;5;241m=\u001b[39m(err \u001b[38;5;241m==\u001b[39m err))):\n\u001b[0;32m   3673\u001b[0m     \u001b[38;5;66;03m# like err<0, but also works for timedelta and nan.\u001b[39;00m\n",
      "\u001b[1;31mValueError\u001b[0m: 'xerr' (shape: (8,)) must be a scalar or a 1D or (2, n) array-like whose shape matches 'x' (shape: (1,))"
     ]
    },
    {
     "data": {
      "image/png": "[encoded data removed]",
      "text/plain": [
       "<Figure size 640x480 with 1 Axes>"
      ]
     },
     "metadata": {},
     "output_type": "display_data"
    }
   ],
   "source": [
    "from sklearn.model_selection import KFold\n",
    "from sklearn.model_selection import cross_val_score\n",
    "from sklearn.metrics import mean_squared_error\n",
    "import numpy as np\n",
    "import pandas as pd\n",
    "import seaborn as sns\n",
    "\n",
    "# Modeling step: Test different algorithms\n",
    "K_fold = KFold(n_splits=10, shuffle=True, random_state=42)\n",
    "\n",
    "models = [] \n",
    "cv_results = [] \n",
    "cv_means = []\n",
    "cv_std = [] \n",
    "\n",
    "models.append(gs_lw_model)\n",
    "models.append(gs_neigh_model)\n",
    "models.append(gs_tree_model)\n",
    "models.append(gs_svm_model)\n",
    "models.append(gs_pca_sgd_model)\n",
    "models.append(ada_boost_model)\n",
    "models.append(bag_boot_model)\n",
    "models.append(bag_fold_model)\n",
    "\n",
    "for model in models:\n",
    "    cv_results.append(cross_val_score(model, arr_X, t, \n",
    "                                       scoring=\"neg_mean_squared_error\", cv=K_fold, n_jobs=4))\n",
    "\n",
    "for cv_result in cv_results:\n",
    "    cv_means.append(cv_result.mean())  # Taking square root to convert back to RMSE\n",
    "    cv_std.append(cv_result.std())  # Taking square root to convert back to RMSE\n",
    "\n",
    "cv_frame = pd.DataFrame(\n",
    "    {\n",
    "        \"CrossValMeans\": cv_means,\n",
    "        \"CrossValErrors\": cv_std,\n",
    "        \"Algorithms\": [\"LWLR\",\n",
    "                     \"KNN\", \n",
    "                     \"DecisionTree\",\n",
    "                     \"SVM\", \n",
    "                     \"PCA_SGD\",\n",
    "                     \"AdaBoost\", \n",
    "                     \"BaggingRegressor_bootstrap\",   \n",
    "                     \"BaggingRegressor\",]\n",
    "    })\n",
    "\n"
   ]
  },
  {
   "cell_type": "code",
   "execution_count": 108,
   "metadata": {},
   "outputs": [
    {
     "data": {
      "text/plain": [
       "Text(0.5, 1.0, 'CV MSE Scores')"
      ]
     },
     "execution_count": 108,
     "metadata": {},
     "output_type": "execute_result"
    },
    {
     "data": {
      "image/png": "[encoded data removed]",
      "text/plain": [
       "<Figure size 640x480 with 1 Axes>"
      ]
     },
     "metadata": {},
     "output_type": "display_data"
    }
   ],
   "source": [
    "# Simplified plot command for troubleshooting\n",
    "cv_plot = sns.barplot(x=\"CrossValMeans\", y=\"Algorithms\", data=cv_frame,\n",
    "                      palette=\"husl\", orient=\"h\",\n",
    "                      hue=\"Algorithms\",\n",
    "                      order=cv_frame.sort_values('CrossValMeans', ascending=False).Algorithms)\n",
    "\n",
    "cv_plot.set_xlabel(\"Mean Squared Error (MSE)\")\n",
    "cv_plot.set_title(\"CV MSE Scores\")"
   ]
  },
  {
   "cell_type": "code",
   "execution_count": 93,
   "metadata": {},
   "outputs": [],
   "source": [
    "from sklearn.ensemble import VotingRegressor\n",
    "\n",
    "def voting_reg(models):\n",
    "    vote_reg = VotingRegressor(estimators=models, n_jobs=4)\n",
    "\n",
    "    vote_reg = vote_reg.fit(X_selected, t)\n",
    "\n",
    "    scores = cross_val_score(vote_reg, X_selected, t, cv=K_fold, n_jobs=4, scoring='neg_mean_squared_error')\n",
    "\n",
    "    print(\"Negative Mean Squared Error scores:\", scores)\n",
    "    print(\"Mean Negative Mean Squared Error:\", round(np.mean(scores), 2))\n",
    "\n",
    "    return vote_reg"
   ]
  },
  {
   "cell_type": "markdown",
   "metadata": {},
   "source": [
    "#### *Choosing The Best Models*"
   ]
  },
  {
   "cell_type": "code",
   "execution_count": 95,
   "metadata": {},
   "outputs": [
    {
     "name": "stdout",
     "output_type": "stream",
     "text": [
      "Negative Mean Squared Error scores: [-1.33616677e+09 -7.81697755e+08 -5.29194428e+08 -1.22136797e+09\n",
      " -1.49423913e+09 -2.36689426e+09 -1.07555980e+09 -7.05104313e+08\n",
      " -7.36584100e+08 -5.31804172e+08]\n",
      "Mean Negative Mean Squared Error: -1077861268.92\n"
     ]
    }
   ],
   "source": [
    "best_models = [\n",
    "    ('bag_boot_model', bag_boot_model),\n",
    "    ('ada_boost_model', ada_boost_model),\n",
    "    ('bag_fold_model', bag_fold_model),\n",
    "]\n",
    "\n",
    "vot_reg_model = voting_reg(best_models)"
   ]
  },
  {
   "cell_type": "code",
   "execution_count": null,
   "metadata": {},
   "outputs": [],
   "source": [
    "show_model_result(X_selected, vot_reg_model)"
   ]
  },
  {
   "cell_type": "markdown",
   "metadata": {},
   "source": [
    "## Prediction"
   ]
  },
  {
   "cell_type": "code",
   "execution_count": 96,
   "metadata": {},
   "outputs": [],
   "source": [
    "predictions = vot_reg_model.predict(X_test_selected)  "
   ]
  },
  {
   "cell_type": "code",
   "execution_count": 99,
   "metadata": {},
   "outputs": [
    {
     "name": "stdout",
     "output_type": "stream",
     "text": [
      "Your submission was successfully saved at time 19:52:21\n"
     ]
    }
   ],
   "source": [
    "# Create a copy of X_test_selected to avoid SettingWithCopyWarning\n",
    "X_test_selected_copy = X_test_selected.copy()\n",
    "\n",
    "# Now, safely add the 'Id' column to the copy\n",
    "X_test_selected_copy['Id'] = test_data_id\n",
    "\n",
    "# Create the submission DataFrame using the copy with the 'Id' column\n",
    "submission = pd.DataFrame({'Id': X_test_selected_copy['Id'], 'SalePrice': predictions})\n",
    "submission.to_csv('submission.csv', index=False)\n",
    "\n",
    "# Print the current time of submission\n",
    "time = pd.Timestamp.now()\n",
    "formatted_time = time.strftime('%H:%M:%S')\n",
    "print(f\"Your submission was successfully saved at time {formatted_time}\")"
   ]
  },
  {
   "cell_type": "markdown",
   "metadata": {},
   "source": [
    "## TL;DR\n",
    "\n",
    "WRITE HERE"
   ]
  },
  {
   "cell_type": "markdown",
   "metadata": {},
   "source": [
    "## References:\n",
    "Kaggle House Prices Competition:  \n",
    "[House Prices - Advanced Regression Techniques](https://www.kaggle.com/c/house-prices-advanced-regression-techniques)\n",
    "\n",
    "Machine Learning Resources and Documentation:  \n",
    "[Scikit-Learn User Guide](https://scikit-learn.org/stable/user_guide.html)\n",
    "\n",
    "Data Science Tutorials and Guides:  \n",
    "[Data Science for Beginners](https://www.kaggle.com/learn/overview) "
   ]
  },
  {
   "cell_type": "markdown",
   "metadata": {},
   "source": []
  }
 ],
 "metadata": {
  "kernelspec": {
   "display_name": "myvenv",
   "language": "python",
   "name": "python3"
  },
  "language_info": {
   "codemirror_mode": {
    "name": "ipython",
    "version": 3
   },
   "file_extension": ".py",
   "mimetype": "text/x-python",
   "name": "python",
   "nbconvert_exporter": "python",
   "pygments_lexer": "ipython3",
   "version": "3.9.6"
  }
 },
 "nbformat": 4,
 "nbformat_minor": 2
}
